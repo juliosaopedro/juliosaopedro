{
  "nbformat": 4,
  "nbformat_minor": 0,
  "metadata": {
    "colab": {
      "name": "1_RedAsset_Final.ipynb",
      "provenance": [],
      "collapsed_sections": [],
      "include_colab_link": true
    },
    "kernelspec": {
      "name": "python3",
      "display_name": "Python 3"
    }
  },
  "cells": [
    {
      "cell_type": "markdown",
      "metadata": {
        "id": "view-in-github",
        "colab_type": "text"
      },
      "source": [
        "<a href=\"https://colab.research.google.com/github/juliosaopedro/juliosaopedro/blob/main/1_RedAsset_Final.ipynb\" target=\"_parent\"><img src=\"https://colab.research.google.com/assets/colab-badge.svg\" alt=\"Open In Colab\"/></a>"
      ]
    },
    {
      "cell_type": "markdown",
      "metadata": {
        "id": "sj5uGWjYyZO2"
      },
      "source": [
        "# Problema\r\n",
        "\r\n",
        "Uma empresa atacadista (Cedente) possui 1 cheque (Título) no valor de 10.000 de um mercado que é seu cliente (Sacado) com vencimento para daqui a 1 mês, mas o cedente necessita de dinheiro hoje para pagar uma dívida. O Cedente procura a RED para adiantar um cheque, a taxa cobrada é de 5% a.m (juros compostos), ou seja, o Cedente vai receber hoje 95% do valor do cheque (9.500) , os 500 são chamados de valor de deságio e a RED vai receber os de 10.000 no final no vencimento do título.\r\n",
        "\r\n",
        "##Dados :\r\n",
        "BASE_TITULOS.txt\r\n",
        "\r\n",
        "##Layout do arquivo :\r\n",
        "### Descrição das Colunas \r\n",
        "- `CODIGO` <br>\r\n",
        "Tipo Numérica <br>\r\n",
        "Código do título ` <br>\r\n",
        "\r\n",
        "- `NOME_FUNDO` <br> Nome do fundo em que o título está registrado <br>\r\n",
        "\r\n",
        "- `TIPO_PRODUTO` <br> Tipo de produto do título ` <br>\r\n",
        "\r\n",
        "- `CEDENTE` <br> Nome do Cedente <br>\r\n",
        "\r\n",
        "- `SACADO` <br> Nome do sacado <br>\r\n",
        "\r\n",
        "- `LIMITE_CEDENTE` <br>  Limite de Crédito do Cedente <br>\r\n",
        "\r\n",
        "- `ESTADO_CEDENTE` <br>  Estado de cadastro do Cedente <br>\r\n",
        "\r\n",
        "- `ESTADO_SACADO` <br>  Estado de cadastro do sacado <br>\r\n",
        "\r\n",
        "- `VENCIMENTO` <br>  Data de vencimento do título <br>\r\n",
        "\r\n",
        "- `DATA_EMISSAO` <br>  Data de emissão do título <br>\r\n",
        "\r\n",
        "- `DATA_PAGAMENTO` <br>  Data de vencimento de pagamento do título\r\n",
        "\r\n",
        "- `VALOR_REAL` <br>  Valor do título <br>\r\n",
        "\r\n",
        "- `VALOR_DESAGIO` <br>  valor de deságio do título <br>\r\n",
        "\r\n",
        "- `TAXA_MENSAL` <br>  Taxa mensal (30 dias) que foi utilizada para o desconto do título <br>\r\n",
        "\r\n",
        "- `STATUS_LIQ_TITULO` <br>  Status de liquidação do título (EM_DIA: O Título foi pago em dia, ATRASO o título foi pago em atraso) <br>\r\n",
        "\r\n",
        "\r\n",
        "- `RISCO_1` até `RISCO_21` <br>  Variáveis que indicam risco <br>\r\n",
        "\r\n",
        "## <b> ATIVIDADES : </b>\r\n",
        "<b> 1  -  Análise descritiva dos ativos </b>\r\n",
        "<li> Regionalização\r\n",
        "<li> Concentraçaõ de clientes\r\n",
        "<li> Taxas de Pagamentos\r\n",
        "<li> Receitas\r\n",
        "<li> Entre outros ..."
      ]
    },
    {
      "cell_type": "code",
      "metadata": {
        "id": "3O0WmR8u0cQS"
      },
      "source": [
        "# Importar os pacotes\r\n",
        "import pandas as pd\r\n",
        "import numpy as np\r\n",
        "import matplotlib.pyplot as plt\r\n",
        "import seaborn as sbn\r\n",
        "\r\n",
        "%matplotlib inline\r\n"
      ],
      "execution_count": null,
      "outputs": []
    },
    {
      "cell_type": "code",
      "metadata": {
        "id": "ikYLd1JplPJF"
      },
      "source": [
        "# Graficos\r\n",
        "import seaborn as sns\r\n",
        "sns.set_theme(style=\"whitegrid\")"
      ],
      "execution_count": null,
      "outputs": []
    },
    {
      "cell_type": "code",
      "metadata": {
        "id": "cHI8j_MPMoTr"
      },
      "source": [
        "# Configurando nosso ambiente\r\n",
        "# Formatando nossa saida \r\n",
        "pd.set_option('float_format', '{:f}'.format)"
      ],
      "execution_count": null,
      "outputs": []
    },
    {
      "cell_type": "code",
      "metadata": {
        "colab": {
          "base_uri": "https://localhost:8080/",
          "height": 305
        },
        "id": "xw23ctuh1Pbc",
        "outputId": "1dbed9c2-507a-476d-92a8-9067096af9ca"
      },
      "source": [
        "# Importar o arquivo de dados\r\n",
        "df = pd.read_csv('/content/BASE_TITULOS.txt',sep='\\t')\r\n",
        "\r\n",
        "# Verificando as primeiras linhas\r\n",
        "df.head(5)"
      ],
      "execution_count": null,
      "outputs": [
        {
          "output_type": "execute_result",
          "data": {
            "text/html": [
              "<div>\n",
              "<style scoped>\n",
              "    .dataframe tbody tr th:only-of-type {\n",
              "        vertical-align: middle;\n",
              "    }\n",
              "\n",
              "    .dataframe tbody tr th {\n",
              "        vertical-align: top;\n",
              "    }\n",
              "\n",
              "    .dataframe thead th {\n",
              "        text-align: right;\n",
              "    }\n",
              "</style>\n",
              "<table border=\"1\" class=\"dataframe\">\n",
              "  <thead>\n",
              "    <tr style=\"text-align: right;\">\n",
              "      <th></th>\n",
              "      <th>CODIGO</th>\n",
              "      <th>NOME_FUNDO</th>\n",
              "      <th>TIPO_PRODUTO</th>\n",
              "      <th>CEDENTE</th>\n",
              "      <th>SACADO</th>\n",
              "      <th>LIMITE_CEDENTE</th>\n",
              "      <th>ESTADO_CEDENTE</th>\n",
              "      <th>ESTADO_SACADO</th>\n",
              "      <th>VENCIMENTO</th>\n",
              "      <th>DATA_EMISSAO</th>\n",
              "      <th>DATA_PAGAMENTO</th>\n",
              "      <th>VALOR_REAL</th>\n",
              "      <th>VALOR_DESAGIO</th>\n",
              "      <th>TAXA_MENSAL</th>\n",
              "      <th>RISCO_1</th>\n",
              "      <th>RISCO_2</th>\n",
              "      <th>RISCO_3</th>\n",
              "      <th>RISCO_4</th>\n",
              "      <th>RISCO_5</th>\n",
              "      <th>RISCO_6</th>\n",
              "      <th>RISCO_7</th>\n",
              "      <th>RISCO_8</th>\n",
              "      <th>RISCO_9</th>\n",
              "      <th>RISCO_10</th>\n",
              "      <th>RISCO_11</th>\n",
              "      <th>RISCO_12</th>\n",
              "      <th>RISCO_13</th>\n",
              "      <th>RISCO_14</th>\n",
              "      <th>RISCO_15</th>\n",
              "      <th>RISCO_16</th>\n",
              "      <th>RISCO_17</th>\n",
              "      <th>RISCO_18</th>\n",
              "      <th>RISCO_19</th>\n",
              "      <th>RISCO_20</th>\n",
              "      <th>RISCO_21</th>\n",
              "      <th>STATUS_LIQ_TITULO</th>\n",
              "    </tr>\n",
              "  </thead>\n",
              "  <tbody>\n",
              "    <tr>\n",
              "      <th>0</th>\n",
              "      <td>1</td>\n",
              "      <td>Fundo 1</td>\n",
              "      <td>Produto 1</td>\n",
              "      <td>Cedente 2</td>\n",
              "      <td>Sacado 249</td>\n",
              "      <td>10000000</td>\n",
              "      <td>CE</td>\n",
              "      <td>SP</td>\n",
              "      <td>2018-03-18</td>\n",
              "      <td>2017-10-28</td>\n",
              "      <td>2018-03-18</td>\n",
              "      <td>1190.990000</td>\n",
              "      <td>166.384869</td>\n",
              "      <td>0.028214</td>\n",
              "      <td>0.028472</td>\n",
              "      <td>1.000000</td>\n",
              "      <td>0.000000</td>\n",
              "      <td>nan</td>\n",
              "      <td>0.000000</td>\n",
              "      <td>nan</td>\n",
              "      <td>0.000000</td>\n",
              "      <td>0.610895</td>\n",
              "      <td>0.000000</td>\n",
              "      <td>nan</td>\n",
              "      <td>0.000000</td>\n",
              "      <td>nan</td>\n",
              "      <td>0.168124</td>\n",
              "      <td>0</td>\n",
              "      <td>0.066667</td>\n",
              "      <td>0.200000</td>\n",
              "      <td>0.727965</td>\n",
              "      <td>0.738669</td>\n",
              "      <td>0.407407</td>\n",
              "      <td>0.860111</td>\n",
              "      <td>0.985155</td>\n",
              "      <td>EM_DIA</td>\n",
              "    </tr>\n",
              "    <tr>\n",
              "      <th>1</th>\n",
              "      <td>2</td>\n",
              "      <td>Fundo 2</td>\n",
              "      <td>Produto 1</td>\n",
              "      <td>Cedente 1</td>\n",
              "      <td>Sacado 1372</td>\n",
              "      <td>8035714</td>\n",
              "      <td>PA</td>\n",
              "      <td>MG</td>\n",
              "      <td>2018-06-24</td>\n",
              "      <td>2018-05-21</td>\n",
              "      <td>2018-06-21</td>\n",
              "      <td>29209.380000</td>\n",
              "      <td>571.781205</td>\n",
              "      <td>0.017253</td>\n",
              "      <td>0.192935</td>\n",
              "      <td>0.500000</td>\n",
              "      <td>0.958204</td>\n",
              "      <td>0.014139</td>\n",
              "      <td>0.013354</td>\n",
              "      <td>0.246686</td>\n",
              "      <td>0.000000</td>\n",
              "      <td>0.380525</td>\n",
              "      <td>0.020198</td>\n",
              "      <td>0.015453</td>\n",
              "      <td>0.666667</td>\n",
              "      <td>0.161228</td>\n",
              "      <td>0.392065</td>\n",
              "      <td>0</td>\n",
              "      <td>0.266667</td>\n",
              "      <td>0.600000</td>\n",
              "      <td>0.010041</td>\n",
              "      <td>0.012547</td>\n",
              "      <td>0.395062</td>\n",
              "      <td>0.698438</td>\n",
              "      <td>0.707374</td>\n",
              "      <td>EM_DIA</td>\n",
              "    </tr>\n",
              "    <tr>\n",
              "      <th>2</th>\n",
              "      <td>3</td>\n",
              "      <td>Fundo 1</td>\n",
              "      <td>Produto 1</td>\n",
              "      <td>Cedente 2</td>\n",
              "      <td>Sacado 346</td>\n",
              "      <td>10000000</td>\n",
              "      <td>CE</td>\n",
              "      <td>PR</td>\n",
              "      <td>2018-03-19</td>\n",
              "      <td>2017-11-29</td>\n",
              "      <td>2018-03-21</td>\n",
              "      <td>756.660000</td>\n",
              "      <td>63.951581</td>\n",
              "      <td>0.022375</td>\n",
              "      <td>0.033609</td>\n",
              "      <td>1.000000</td>\n",
              "      <td>0.000000</td>\n",
              "      <td>nan</td>\n",
              "      <td>0.000000</td>\n",
              "      <td>nan</td>\n",
              "      <td>0.000000</td>\n",
              "      <td>0.581379</td>\n",
              "      <td>0.000000</td>\n",
              "      <td>nan</td>\n",
              "      <td>0.000000</td>\n",
              "      <td>nan</td>\n",
              "      <td>0.109617</td>\n",
              "      <td>0</td>\n",
              "      <td>0.066667</td>\n",
              "      <td>0.200000</td>\n",
              "      <td>0.327489</td>\n",
              "      <td>0.321123</td>\n",
              "      <td>0.395062</td>\n",
              "      <td>0.890059</td>\n",
              "      <td>0.987560</td>\n",
              "      <td>ATRASO</td>\n",
              "    </tr>\n",
              "    <tr>\n",
              "      <th>3</th>\n",
              "      <td>4</td>\n",
              "      <td>Fundo 2</td>\n",
              "      <td>Produto 1</td>\n",
              "      <td>Cedente 1</td>\n",
              "      <td>Sacado 585</td>\n",
              "      <td>8035714</td>\n",
              "      <td>PA</td>\n",
              "      <td>PA</td>\n",
              "      <td>2018-04-03</td>\n",
              "      <td>2018-02-14</td>\n",
              "      <td>2018-04-06</td>\n",
              "      <td>7869.880000</td>\n",
              "      <td>190.764728</td>\n",
              "      <td>0.015082</td>\n",
              "      <td>0.183401</td>\n",
              "      <td>0.500000</td>\n",
              "      <td>0.124609</td>\n",
              "      <td>0.007712</td>\n",
              "      <td>0.000024</td>\n",
              "      <td>0.684831</td>\n",
              "      <td>0.000000</td>\n",
              "      <td>0.179036</td>\n",
              "      <td>0.020187</td>\n",
              "      <td>0.128587</td>\n",
              "      <td>0.666667</td>\n",
              "      <td>0.099808</td>\n",
              "      <td>0.415602</td>\n",
              "      <td>0</td>\n",
              "      <td>0.400000</td>\n",
              "      <td>0.600000</td>\n",
              "      <td>0.012217</td>\n",
              "      <td>0.017485</td>\n",
              "      <td>0.419753</td>\n",
              "      <td>0.609827</td>\n",
              "      <td>0.906279</td>\n",
              "      <td>ATRASO</td>\n",
              "    </tr>\n",
              "    <tr>\n",
              "      <th>4</th>\n",
              "      <td>5</td>\n",
              "      <td>Fundo 1</td>\n",
              "      <td>Produto 1</td>\n",
              "      <td>Cedente 2</td>\n",
              "      <td>Sacado 2184</td>\n",
              "      <td>10000000</td>\n",
              "      <td>CE</td>\n",
              "      <td>RJ</td>\n",
              "      <td>2018-02-02</td>\n",
              "      <td>2017-11-03</td>\n",
              "      <td>2018-02-02</td>\n",
              "      <td>1064.920000</td>\n",
              "      <td>105.976693</td>\n",
              "      <td>0.031770</td>\n",
              "      <td>0.028472</td>\n",
              "      <td>1.000000</td>\n",
              "      <td>0.000000</td>\n",
              "      <td>nan</td>\n",
              "      <td>0.000000</td>\n",
              "      <td>nan</td>\n",
              "      <td>0.000000</td>\n",
              "      <td>0.514459</td>\n",
              "      <td>0.000000</td>\n",
              "      <td>nan</td>\n",
              "      <td>0.000000</td>\n",
              "      <td>nan</td>\n",
              "      <td>0.168124</td>\n",
              "      <td>0</td>\n",
              "      <td>0.066667</td>\n",
              "      <td>0.200000</td>\n",
              "      <td>0.727965</td>\n",
              "      <td>0.738669</td>\n",
              "      <td>0.407407</td>\n",
              "      <td>0.860111</td>\n",
              "      <td>0.368493</td>\n",
              "      <td>EM_DIA</td>\n",
              "    </tr>\n",
              "  </tbody>\n",
              "</table>\n",
              "</div>"
            ],
            "text/plain": [
              "   CODIGO NOME_FUNDO TIPO_PRODUTO  ... RISCO_20 RISCO_21  STATUS_LIQ_TITULO\n",
              "0       1    Fundo 1    Produto 1  ... 0.860111 0.985155             EM_DIA\n",
              "1       2    Fundo 2    Produto 1  ... 0.698438 0.707374             EM_DIA\n",
              "2       3    Fundo 1    Produto 1  ... 0.890059 0.987560             ATRASO\n",
              "3       4    Fundo 2    Produto 1  ... 0.609827 0.906279             ATRASO\n",
              "4       5    Fundo 1    Produto 1  ... 0.860111 0.368493             EM_DIA\n",
              "\n",
              "[5 rows x 36 columns]"
            ]
          },
          "metadata": {
            "tags": []
          },
          "execution_count": 4
        }
      ]
    },
    {
      "cell_type": "code",
      "metadata": {
        "id": "sz3Dz190TuPo",
        "colab": {
          "base_uri": "https://localhost:8080/"
        },
        "outputId": "f2b21c25-fb21-4fd9-9554-8f97b5840b7d"
      },
      "source": [
        "# Dimensões do df\n",
        "print(\"Dimensões do DataFrame:\")\n",
        "print(\"Linhas:\\t\\t{}\".format(df.shape[0]))\n",
        "print(\"Colunas:\\t{}\".format(df.shape[1]))"
      ],
      "execution_count": null,
      "outputs": [
        {
          "output_type": "stream",
          "text": [
            "Dimensões do DataFrame:\n",
            "Linhas:\t\t9415\n",
            "Colunas:\t36\n"
          ],
          "name": "stdout"
        }
      ]
    },
    {
      "cell_type": "code",
      "metadata": {
        "colab": {
          "base_uri": "https://localhost:8080/"
        },
        "id": "crqXuIOnKXFJ",
        "outputId": "d50edae6-6009-4a94-d735-b6ce4f74a6a8"
      },
      "source": [
        "# tipo das variáveis\r\n",
        "print(\"\\nTipos das Variáveis:\")\r\n",
        "print(df.dtypes)"
      ],
      "execution_count": null,
      "outputs": [
        {
          "output_type": "stream",
          "text": [
            "\n",
            "Tipos das Variáveis:\n",
            "CODIGO                 int64\n",
            "NOME_FUNDO            object\n",
            "TIPO_PRODUTO          object\n",
            "CEDENTE               object\n",
            "SACADO                object\n",
            "LIMITE_CEDENTE         int64\n",
            "ESTADO_CEDENTE        object\n",
            "ESTADO_SACADO         object\n",
            "VENCIMENTO            object\n",
            "DATA_EMISSAO          object\n",
            "DATA_PAGAMENTO        object\n",
            "VALOR_REAL           float64\n",
            "VALOR_DESAGIO        float64\n",
            "TAXA_MENSAL          float64\n",
            "RISCO_1              float64\n",
            "RISCO_2              float64\n",
            "RISCO_3              float64\n",
            "RISCO_4              float64\n",
            "RISCO_5              float64\n",
            "RISCO_6              float64\n",
            "RISCO_7              float64\n",
            "RISCO_8              float64\n",
            "RISCO_9              float64\n",
            "RISCO_10             float64\n",
            "RISCO_11             float64\n",
            "RISCO_12             float64\n",
            "RISCO_13             float64\n",
            "RISCO_14               int64\n",
            "RISCO_15             float64\n",
            "RISCO_16             float64\n",
            "RISCO_17             float64\n",
            "RISCO_18             float64\n",
            "RISCO_19             float64\n",
            "RISCO_20             float64\n",
            "RISCO_21             float64\n",
            "STATUS_LIQ_TITULO     object\n",
            "dtype: object\n"
          ],
          "name": "stdout"
        }
      ]
    },
    {
      "cell_type": "code",
      "metadata": {
        "id": "wc1CFYjdCZGT",
        "colab": {
          "base_uri": "https://localhost:8080/"
        },
        "outputId": "643de272-0280-4508-af7f-ca6423bad599"
      },
      "source": [
        "# Verificando valores nulos\r\n",
        "df.isnull().sum()\r\n"
      ],
      "execution_count": null,
      "outputs": [
        {
          "output_type": "execute_result",
          "data": {
            "text/plain": [
              "CODIGO                  0\n",
              "NOME_FUNDO              0\n",
              "TIPO_PRODUTO            0\n",
              "CEDENTE                 0\n",
              "SACADO                  0\n",
              "LIMITE_CEDENTE          0\n",
              "ESTADO_CEDENTE          0\n",
              "ESTADO_SACADO         242\n",
              "VENCIMENTO              0\n",
              "DATA_EMISSAO            0\n",
              "DATA_PAGAMENTO          0\n",
              "VALOR_REAL              0\n",
              "VALOR_DESAGIO           0\n",
              "TAXA_MENSAL             2\n",
              "RISCO_1                 0\n",
              "RISCO_2                 0\n",
              "RISCO_3                 0\n",
              "RISCO_4              6847\n",
              "RISCO_5                 0\n",
              "RISCO_6              7754\n",
              "RISCO_7                 0\n",
              "RISCO_8                 0\n",
              "RISCO_9                 0\n",
              "RISCO_10             4485\n",
              "RISCO_11                0\n",
              "RISCO_12             7764\n",
              "RISCO_13               40\n",
              "RISCO_14                0\n",
              "RISCO_15                0\n",
              "RISCO_16                0\n",
              "RISCO_17                0\n",
              "RISCO_18                0\n",
              "RISCO_19              137\n",
              "RISCO_20                0\n",
              "RISCO_21                0\n",
              "STATUS_LIQ_TITULO       0\n",
              "dtype: int64"
            ]
          },
          "metadata": {
            "tags": []
          },
          "execution_count": 8
        }
      ]
    },
    {
      "cell_type": "code",
      "metadata": {
        "colab": {
          "base_uri": "https://localhost:8080/"
        },
        "id": "S-QwtuUlMwHl",
        "outputId": "ca31c512-8ddf-4aee-f75f-9d78a68ee049"
      },
      "source": [
        "#Localizando registros com TAXA_MENSAL nula\r\n",
        "np.where(pd.isnull(df['TAXA_MENSAL']))\r\n"
      ],
      "execution_count": null,
      "outputs": [
        {
          "output_type": "execute_result",
          "data": {
            "text/plain": [
              "(array([1491, 2427]),)"
            ]
          },
          "metadata": {
            "tags": []
          },
          "execution_count": 9
        }
      ]
    },
    {
      "cell_type": "code",
      "metadata": {
        "id": "PtrkUPy1LdgB"
      },
      "source": [
        "# Excluindo registros com TAXA_MENSAL nula\r\n",
        "df.drop([1491,1491], inplace=True)\r\n",
        "df.drop([2427,2427], inplace=True)"
      ],
      "execution_count": null,
      "outputs": []
    },
    {
      "cell_type": "code",
      "metadata": {
        "id": "TXB6hwskCIJy"
      },
      "source": [
        "# Para ESTADO_SACADO nulo vamos substituir por ESTADO_CEDENTE\r\n",
        "df['ESTADO_SACADO'].fillna(df['ESTADO_CEDENTE'], inplace=True)"
      ],
      "execution_count": null,
      "outputs": []
    },
    {
      "cell_type": "code",
      "metadata": {
        "colab": {
          "base_uri": "https://localhost:8080/"
        },
        "id": "JKoGsXaKCnpK",
        "outputId": "e8f5980c-2e92-4e3d-9aca-cede1a263217"
      },
      "source": [
        "# Verificando a quantidade de linhas e colunas\r\n",
        "\r\n",
        "print('Linhas : ', df.shape[0])\r\n",
        "print('Colunas :', df.shape[1])"
      ],
      "execution_count": null,
      "outputs": [
        {
          "output_type": "stream",
          "text": [
            "Linhas :  9413\n",
            "Colunas : 36\n"
          ],
          "name": "stdout"
        }
      ]
    },
    {
      "cell_type": "code",
      "metadata": {
        "colab": {
          "base_uri": "https://localhost:8080/",
          "height": 308
        },
        "id": "EsZ5DrKoFKlP",
        "outputId": "f30041ec-8d82-4d5c-a465-4c66c3409f1a"
      },
      "source": [
        "# Analisando estatísticamente nossos dados\r\n",
        "df.describe()"
      ],
      "execution_count": null,
      "outputs": [
        {
          "output_type": "execute_result",
          "data": {
            "text/html": [
              "<div>\n",
              "<style scoped>\n",
              "    .dataframe tbody tr th:only-of-type {\n",
              "        vertical-align: middle;\n",
              "    }\n",
              "\n",
              "    .dataframe tbody tr th {\n",
              "        vertical-align: top;\n",
              "    }\n",
              "\n",
              "    .dataframe thead th {\n",
              "        text-align: right;\n",
              "    }\n",
              "</style>\n",
              "<table border=\"1\" class=\"dataframe\">\n",
              "  <thead>\n",
              "    <tr style=\"text-align: right;\">\n",
              "      <th></th>\n",
              "      <th>CODIGO</th>\n",
              "      <th>LIMITE_CEDENTE</th>\n",
              "      <th>VALOR_REAL</th>\n",
              "      <th>VALOR_DESAGIO</th>\n",
              "      <th>TAXA_MENSAL</th>\n",
              "      <th>RISCO_1</th>\n",
              "      <th>RISCO_2</th>\n",
              "      <th>RISCO_3</th>\n",
              "      <th>RISCO_4</th>\n",
              "      <th>RISCO_5</th>\n",
              "      <th>RISCO_6</th>\n",
              "      <th>RISCO_7</th>\n",
              "      <th>RISCO_8</th>\n",
              "      <th>RISCO_9</th>\n",
              "      <th>RISCO_10</th>\n",
              "      <th>RISCO_11</th>\n",
              "      <th>RISCO_12</th>\n",
              "      <th>RISCO_13</th>\n",
              "      <th>RISCO_14</th>\n",
              "      <th>RISCO_15</th>\n",
              "      <th>RISCO_16</th>\n",
              "      <th>RISCO_17</th>\n",
              "      <th>RISCO_18</th>\n",
              "      <th>RISCO_19</th>\n",
              "      <th>RISCO_20</th>\n",
              "      <th>RISCO_21</th>\n",
              "    </tr>\n",
              "  </thead>\n",
              "  <tbody>\n",
              "    <tr>\n",
              "      <th>count</th>\n",
              "      <td>9413.000000</td>\n",
              "      <td>9413.000000</td>\n",
              "      <td>9413.000000</td>\n",
              "      <td>9413.000000</td>\n",
              "      <td>9413.000000</td>\n",
              "      <td>9413.000000</td>\n",
              "      <td>9413.000000</td>\n",
              "      <td>9413.000000</td>\n",
              "      <td>2566.000000</td>\n",
              "      <td>9413.000000</td>\n",
              "      <td>1660.000000</td>\n",
              "      <td>9413.000000</td>\n",
              "      <td>9413.000000</td>\n",
              "      <td>9413.000000</td>\n",
              "      <td>4928.000000</td>\n",
              "      <td>9413.000000</td>\n",
              "      <td>1649.000000</td>\n",
              "      <td>9373.000000</td>\n",
              "      <td>9413.000000</td>\n",
              "      <td>9413.000000</td>\n",
              "      <td>9413.000000</td>\n",
              "      <td>9413.000000</td>\n",
              "      <td>9413.000000</td>\n",
              "      <td>9276.000000</td>\n",
              "      <td>9413.000000</td>\n",
              "      <td>9413.000000</td>\n",
              "    </tr>\n",
              "    <tr>\n",
              "      <th>mean</th>\n",
              "      <td>4708.583873</td>\n",
              "      <td>5753486.792521</td>\n",
              "      <td>6434.166490</td>\n",
              "      <td>485.786063</td>\n",
              "      <td>0.046295</td>\n",
              "      <td>0.368564</td>\n",
              "      <td>0.591697</td>\n",
              "      <td>0.095632</td>\n",
              "      <td>0.164909</td>\n",
              "      <td>0.002229</td>\n",
              "      <td>0.280800</td>\n",
              "      <td>0.000891</td>\n",
              "      <td>0.496366</td>\n",
              "      <td>0.004113</td>\n",
              "      <td>0.042545</td>\n",
              "      <td>0.088034</td>\n",
              "      <td>0.201561</td>\n",
              "      <td>0.414285</td>\n",
              "      <td>0.014236</td>\n",
              "      <td>0.197372</td>\n",
              "      <td>0.470328</td>\n",
              "      <td>0.122281</td>\n",
              "      <td>0.123076</td>\n",
              "      <td>0.388307</td>\n",
              "      <td>0.826680</td>\n",
              "      <td>0.678616</td>\n",
              "    </tr>\n",
              "    <tr>\n",
              "      <th>std</th>\n",
              "      <td>2718.005696</td>\n",
              "      <td>3259715.859710</td>\n",
              "      <td>41932.167705</td>\n",
              "      <td>3364.188149</td>\n",
              "      <td>0.050580</td>\n",
              "      <td>0.358991</td>\n",
              "      <td>0.366350</td>\n",
              "      <td>0.261086</td>\n",
              "      <td>0.256632</td>\n",
              "      <td>0.024840</td>\n",
              "      <td>0.279905</td>\n",
              "      <td>0.020661</td>\n",
              "      <td>0.286867</td>\n",
              "      <td>0.014578</td>\n",
              "      <td>0.075204</td>\n",
              "      <td>0.211116</td>\n",
              "      <td>0.232304</td>\n",
              "      <td>0.168227</td>\n",
              "      <td>0.118467</td>\n",
              "      <td>0.139441</td>\n",
              "      <td>0.236331</td>\n",
              "      <td>0.244616</td>\n",
              "      <td>0.244707</td>\n",
              "      <td>0.040895</td>\n",
              "      <td>0.222563</td>\n",
              "      <td>0.336308</td>\n",
              "    </tr>\n",
              "    <tr>\n",
              "      <th>min</th>\n",
              "      <td>1.000000</td>\n",
              "      <td>0.000000</td>\n",
              "      <td>17.240000</td>\n",
              "      <td>0.174568</td>\n",
              "      <td>-0.532319</td>\n",
              "      <td>0.000000</td>\n",
              "      <td>0.000000</td>\n",
              "      <td>0.000000</td>\n",
              "      <td>0.000000</td>\n",
              "      <td>0.000000</td>\n",
              "      <td>0.000000</td>\n",
              "      <td>0.000000</td>\n",
              "      <td>0.000070</td>\n",
              "      <td>0.000000</td>\n",
              "      <td>0.000000</td>\n",
              "      <td>0.000000</td>\n",
              "      <td>0.000000</td>\n",
              "      <td>0.000000</td>\n",
              "      <td>0.000000</td>\n",
              "      <td>0.000000</td>\n",
              "      <td>0.000000</td>\n",
              "      <td>0.000000</td>\n",
              "      <td>0.000000</td>\n",
              "      <td>0.000000</td>\n",
              "      <td>0.000000</td>\n",
              "      <td>0.000000</td>\n",
              "    </tr>\n",
              "    <tr>\n",
              "      <th>25%</th>\n",
              "      <td>2355.000000</td>\n",
              "      <td>2500000.000000</td>\n",
              "      <td>480.980000</td>\n",
              "      <td>31.905361</td>\n",
              "      <td>0.023639</td>\n",
              "      <td>0.065530</td>\n",
              "      <td>0.333333</td>\n",
              "      <td>0.000000</td>\n",
              "      <td>0.010283</td>\n",
              "      <td>0.000000</td>\n",
              "      <td>0.022091</td>\n",
              "      <td>0.000000</td>\n",
              "      <td>0.248502</td>\n",
              "      <td>0.000000</td>\n",
              "      <td>0.003311</td>\n",
              "      <td>0.000000</td>\n",
              "      <td>0.099808</td>\n",
              "      <td>0.332213</td>\n",
              "      <td>0.000000</td>\n",
              "      <td>0.133333</td>\n",
              "      <td>0.200000</td>\n",
              "      <td>0.003556</td>\n",
              "      <td>0.003205</td>\n",
              "      <td>0.382716</td>\n",
              "      <td>0.822073</td>\n",
              "      <td>0.417284</td>\n",
              "    </tr>\n",
              "    <tr>\n",
              "      <th>50%</th>\n",
              "      <td>4709.000000</td>\n",
              "      <td>6964286.000000</td>\n",
              "      <td>978.150000</td>\n",
              "      <td>77.306935</td>\n",
              "      <td>0.034636</td>\n",
              "      <td>0.213464</td>\n",
              "      <td>0.500000</td>\n",
              "      <td>0.000000</td>\n",
              "      <td>0.032134</td>\n",
              "      <td>0.000000</td>\n",
              "      <td>0.179676</td>\n",
              "      <td>0.000000</td>\n",
              "      <td>0.494327</td>\n",
              "      <td>0.000002</td>\n",
              "      <td>0.007726</td>\n",
              "      <td>0.000000</td>\n",
              "      <td>0.133717</td>\n",
              "      <td>0.474109</td>\n",
              "      <td>0.000000</td>\n",
              "      <td>0.200000</td>\n",
              "      <td>0.400000</td>\n",
              "      <td>0.018831</td>\n",
              "      <td>0.020265</td>\n",
              "      <td>0.382716</td>\n",
              "      <td>0.885640</td>\n",
              "      <td>0.830255</td>\n",
              "    </tr>\n",
              "    <tr>\n",
              "      <th>75%</th>\n",
              "      <td>7062.000000</td>\n",
              "      <td>8035714.000000</td>\n",
              "      <td>2867.980000</td>\n",
              "      <td>205.126808</td>\n",
              "      <td>0.054734</td>\n",
              "      <td>0.665771</td>\n",
              "      <td>1.000000</td>\n",
              "      <td>0.000062</td>\n",
              "      <td>0.201799</td>\n",
              "      <td>0.000000</td>\n",
              "      <td>0.662003</td>\n",
              "      <td>0.000000</td>\n",
              "      <td>0.740785</td>\n",
              "      <td>0.001247</td>\n",
              "      <td>0.043322</td>\n",
              "      <td>0.000000</td>\n",
              "      <td>0.186820</td>\n",
              "      <td>0.525219</td>\n",
              "      <td>0.000000</td>\n",
              "      <td>0.266667</td>\n",
              "      <td>0.600000</td>\n",
              "      <td>0.073831</td>\n",
              "      <td>0.076833</td>\n",
              "      <td>0.395062</td>\n",
              "      <td>0.976308</td>\n",
              "      <td>0.964654</td>\n",
              "    </tr>\n",
              "    <tr>\n",
              "      <th>max</th>\n",
              "      <td>9415.000000</td>\n",
              "      <td>10000000.000000</td>\n",
              "      <td>3112000.000000</td>\n",
              "      <td>163116.717700</td>\n",
              "      <td>2.320652</td>\n",
              "      <td>1.000000</td>\n",
              "      <td>1.000000</td>\n",
              "      <td>1.000000</td>\n",
              "      <td>1.000000</td>\n",
              "      <td>1.000000</td>\n",
              "      <td>1.000000</td>\n",
              "      <td>1.000000</td>\n",
              "      <td>0.999974</td>\n",
              "      <td>1.000000</td>\n",
              "      <td>1.000000</td>\n",
              "      <td>1.000000</td>\n",
              "      <td>1.000000</td>\n",
              "      <td>1.000000</td>\n",
              "      <td>1.000000</td>\n",
              "      <td>1.000000</td>\n",
              "      <td>1.000000</td>\n",
              "      <td>1.000000</td>\n",
              "      <td>1.000000</td>\n",
              "      <td>1.000000</td>\n",
              "      <td>1.000000</td>\n",
              "      <td>1.000000</td>\n",
              "    </tr>\n",
              "  </tbody>\n",
              "</table>\n",
              "</div>"
            ],
            "text/plain": [
              "           CODIGO  LIMITE_CEDENTE  ...    RISCO_20    RISCO_21\n",
              "count 9413.000000     9413.000000  ... 9413.000000 9413.000000\n",
              "mean  4708.583873  5753486.792521  ...    0.826680    0.678616\n",
              "std   2718.005696  3259715.859710  ...    0.222563    0.336308\n",
              "min      1.000000        0.000000  ...    0.000000    0.000000\n",
              "25%   2355.000000  2500000.000000  ...    0.822073    0.417284\n",
              "50%   4709.000000  6964286.000000  ...    0.885640    0.830255\n",
              "75%   7062.000000  8035714.000000  ...    0.976308    0.964654\n",
              "max   9415.000000 10000000.000000  ...    1.000000    1.000000\n",
              "\n",
              "[8 rows x 26 columns]"
            ]
          },
          "metadata": {
            "tags": []
          },
          "execution_count": 13
        }
      ]
    },
    {
      "cell_type": "markdown",
      "metadata": {
        "id": "krtafgELW0wU"
      },
      "source": [
        "### Removendo OUTLIERS (Valores muito discrepantes)"
      ]
    },
    {
      "cell_type": "code",
      "metadata": {
        "id": "dg8WqQNvcxl6"
      },
      "source": [
        "# Fazendo uma copia de nossos dados\r\n",
        "df_clean = df.copy()"
      ],
      "execution_count": null,
      "outputs": []
    },
    {
      "cell_type": "markdown",
      "metadata": {
        "id": "C8i-Cx3yb3sR"
      },
      "source": [
        "## Valor_Real"
      ]
    },
    {
      "cell_type": "code",
      "metadata": {
        "colab": {
          "base_uri": "https://localhost:8080/",
          "height": 259
        },
        "id": "5HGRgvK1ffgE",
        "outputId": "3637d398-cbba-43e9-d6de-2d49326a3b80"
      },
      "source": [
        "# Grafico BOXPLOT\r\n",
        "import seaborn as sns\r\n",
        "sns.set_theme(style=\"whitegrid\")\r\n",
        "#tips = sns.load_dataset(\"df\")\r\n",
        "ax = sns.boxplot(y=df_clean[\"VALOR_REAL\"],orient=\"Horizontal\")"
      ],
      "execution_count": null,
      "outputs": [
        {
          "output_type": "display_data",
          "data": {
            "image/png": "[encoded data removed]",
            "text/plain": [
              "<Figure size 432x288 with 1 Axes>"
            ]
          },
          "metadata": {
            "tags": []
          }
        }
      ]
    },
    {
      "cell_type": "code",
      "metadata": {
        "colab": {
          "base_uri": "https://localhost:8080/",
          "height": 308
        },
        "id": "kAJ5faStPb3k",
        "outputId": "f3d72b62-4a72-4f7d-f800-0efe17475eb6"
      },
      "source": [
        "df_clean.describe()"
      ],
      "execution_count": null,
      "outputs": [
        {
          "output_type": "execute_result",
          "data": {
            "text/html": [
              "<div>\n",
              "<style scoped>\n",
              "    .dataframe tbody tr th:only-of-type {\n",
              "        vertical-align: middle;\n",
              "    }\n",
              "\n",
              "    .dataframe tbody tr th {\n",
              "        vertical-align: top;\n",
              "    }\n",
              "\n",
              "    .dataframe thead th {\n",
              "        text-align: right;\n",
              "    }\n",
              "</style>\n",
              "<table border=\"1\" class=\"dataframe\">\n",
              "  <thead>\n",
              "    <tr style=\"text-align: right;\">\n",
              "      <th></th>\n",
              "      <th>CODIGO</th>\n",
              "      <th>LIMITE_CEDENTE</th>\n",
              "      <th>VALOR_REAL</th>\n",
              "      <th>VALOR_DESAGIO</th>\n",
              "      <th>TAXA_MENSAL</th>\n",
              "      <th>RISCO_1</th>\n",
              "      <th>RISCO_2</th>\n",
              "      <th>RISCO_3</th>\n",
              "      <th>RISCO_4</th>\n",
              "      <th>RISCO_5</th>\n",
              "      <th>RISCO_6</th>\n",
              "      <th>RISCO_7</th>\n",
              "      <th>RISCO_8</th>\n",
              "      <th>RISCO_9</th>\n",
              "      <th>RISCO_10</th>\n",
              "      <th>RISCO_11</th>\n",
              "      <th>RISCO_12</th>\n",
              "      <th>RISCO_13</th>\n",
              "      <th>RISCO_14</th>\n",
              "      <th>RISCO_15</th>\n",
              "      <th>RISCO_16</th>\n",
              "      <th>RISCO_17</th>\n",
              "      <th>RISCO_18</th>\n",
              "      <th>RISCO_19</th>\n",
              "      <th>RISCO_20</th>\n",
              "      <th>RISCO_21</th>\n",
              "    </tr>\n",
              "  </thead>\n",
              "  <tbody>\n",
              "    <tr>\n",
              "      <th>count</th>\n",
              "      <td>9413.000000</td>\n",
              "      <td>9413.000000</td>\n",
              "      <td>9413.000000</td>\n",
              "      <td>9413.000000</td>\n",
              "      <td>9413.000000</td>\n",
              "      <td>9413.000000</td>\n",
              "      <td>9413.000000</td>\n",
              "      <td>9413.000000</td>\n",
              "      <td>2566.000000</td>\n",
              "      <td>9413.000000</td>\n",
              "      <td>1660.000000</td>\n",
              "      <td>9413.000000</td>\n",
              "      <td>9413.000000</td>\n",
              "      <td>9413.000000</td>\n",
              "      <td>4928.000000</td>\n",
              "      <td>9413.000000</td>\n",
              "      <td>1649.000000</td>\n",
              "      <td>9373.000000</td>\n",
              "      <td>9413.000000</td>\n",
              "      <td>9413.000000</td>\n",
              "      <td>9413.000000</td>\n",
              "      <td>9413.000000</td>\n",
              "      <td>9413.000000</td>\n",
              "      <td>9276.000000</td>\n",
              "      <td>9413.000000</td>\n",
              "      <td>9413.000000</td>\n",
              "    </tr>\n",
              "    <tr>\n",
              "      <th>mean</th>\n",
              "      <td>4708.583873</td>\n",
              "      <td>5753486.792521</td>\n",
              "      <td>6434.166490</td>\n",
              "      <td>485.786063</td>\n",
              "      <td>0.046295</td>\n",
              "      <td>0.368564</td>\n",
              "      <td>0.591697</td>\n",
              "      <td>0.095632</td>\n",
              "      <td>0.164909</td>\n",
              "      <td>0.002229</td>\n",
              "      <td>0.280800</td>\n",
              "      <td>0.000891</td>\n",
              "      <td>0.496366</td>\n",
              "      <td>0.004113</td>\n",
              "      <td>0.042545</td>\n",
              "      <td>0.088034</td>\n",
              "      <td>0.201561</td>\n",
              "      <td>0.414285</td>\n",
              "      <td>0.014236</td>\n",
              "      <td>0.197372</td>\n",
              "      <td>0.470328</td>\n",
              "      <td>0.122281</td>\n",
              "      <td>0.123076</td>\n",
              "      <td>0.388307</td>\n",
              "      <td>0.826680</td>\n",
              "      <td>0.678616</td>\n",
              "    </tr>\n",
              "    <tr>\n",
              "      <th>std</th>\n",
              "      <td>2718.005696</td>\n",
              "      <td>3259715.859710</td>\n",
              "      <td>41932.167705</td>\n",
              "      <td>3364.188149</td>\n",
              "      <td>0.050580</td>\n",
              "      <td>0.358991</td>\n",
              "      <td>0.366350</td>\n",
              "      <td>0.261086</td>\n",
              "      <td>0.256632</td>\n",
              "      <td>0.024840</td>\n",
              "      <td>0.279905</td>\n",
              "      <td>0.020661</td>\n",
              "      <td>0.286867</td>\n",
              "      <td>0.014578</td>\n",
              "      <td>0.075204</td>\n",
              "      <td>0.211116</td>\n",
              "      <td>0.232304</td>\n",
              "      <td>0.168227</td>\n",
              "      <td>0.118467</td>\n",
              "      <td>0.139441</td>\n",
              "      <td>0.236331</td>\n",
              "      <td>0.244616</td>\n",
              "      <td>0.244707</td>\n",
              "      <td>0.040895</td>\n",
              "      <td>0.222563</td>\n",
              "      <td>0.336308</td>\n",
              "    </tr>\n",
              "    <tr>\n",
              "      <th>min</th>\n",
              "      <td>1.000000</td>\n",
              "      <td>0.000000</td>\n",
              "      <td>17.240000</td>\n",
              "      <td>0.174568</td>\n",
              "      <td>-0.532319</td>\n",
              "      <td>0.000000</td>\n",
              "      <td>0.000000</td>\n",
              "      <td>0.000000</td>\n",
              "      <td>0.000000</td>\n",
              "      <td>0.000000</td>\n",
              "      <td>0.000000</td>\n",
              "      <td>0.000000</td>\n",
              "      <td>0.000070</td>\n",
              "      <td>0.000000</td>\n",
              "      <td>0.000000</td>\n",
              "      <td>0.000000</td>\n",
              "      <td>0.000000</td>\n",
              "      <td>0.000000</td>\n",
              "      <td>0.000000</td>\n",
              "      <td>0.000000</td>\n",
              "      <td>0.000000</td>\n",
              "      <td>0.000000</td>\n",
              "      <td>0.000000</td>\n",
              "      <td>0.000000</td>\n",
              "      <td>0.000000</td>\n",
              "      <td>0.000000</td>\n",
              "    </tr>\n",
              "    <tr>\n",
              "      <th>25%</th>\n",
              "      <td>2355.000000</td>\n",
              "      <td>2500000.000000</td>\n",
              "      <td>480.980000</td>\n",
              "      <td>31.905361</td>\n",
              "      <td>0.023639</td>\n",
              "      <td>0.065530</td>\n",
              "      <td>0.333333</td>\n",
              "      <td>0.000000</td>\n",
              "      <td>0.010283</td>\n",
              "      <td>0.000000</td>\n",
              "      <td>0.022091</td>\n",
              "      <td>0.000000</td>\n",
              "      <td>0.248502</td>\n",
              "      <td>0.000000</td>\n",
              "      <td>0.003311</td>\n",
              "      <td>0.000000</td>\n",
              "      <td>0.099808</td>\n",
              "      <td>0.332213</td>\n",
              "      <td>0.000000</td>\n",
              "      <td>0.133333</td>\n",
              "      <td>0.200000</td>\n",
              "      <td>0.003556</td>\n",
              "      <td>0.003205</td>\n",
              "      <td>0.382716</td>\n",
              "      <td>0.822073</td>\n",
              "      <td>0.417284</td>\n",
              "    </tr>\n",
              "    <tr>\n",
              "      <th>50%</th>\n",
              "      <td>4709.000000</td>\n",
              "      <td>6964286.000000</td>\n",
              "      <td>978.150000</td>\n",
              "      <td>77.306935</td>\n",
              "      <td>0.034636</td>\n",
              "      <td>0.213464</td>\n",
              "      <td>0.500000</td>\n",
              "      <td>0.000000</td>\n",
              "      <td>0.032134</td>\n",
              "      <td>0.000000</td>\n",
              "      <td>0.179676</td>\n",
              "      <td>0.000000</td>\n",
              "      <td>0.494327</td>\n",
              "      <td>0.000002</td>\n",
              "      <td>0.007726</td>\n",
              "      <td>0.000000</td>\n",
              "      <td>0.133717</td>\n",
              "      <td>0.474109</td>\n",
              "      <td>0.000000</td>\n",
              "      <td>0.200000</td>\n",
              "      <td>0.400000</td>\n",
              "      <td>0.018831</td>\n",
              "      <td>0.020265</td>\n",
              "      <td>0.382716</td>\n",
              "      <td>0.885640</td>\n",
              "      <td>0.830255</td>\n",
              "    </tr>\n",
              "    <tr>\n",
              "      <th>75%</th>\n",
              "      <td>7062.000000</td>\n",
              "      <td>8035714.000000</td>\n",
              "      <td>2867.980000</td>\n",
              "      <td>205.126808</td>\n",
              "      <td>0.054734</td>\n",
              "      <td>0.665771</td>\n",
              "      <td>1.000000</td>\n",
              "      <td>0.000062</td>\n",
              "      <td>0.201799</td>\n",
              "      <td>0.000000</td>\n",
              "      <td>0.662003</td>\n",
              "      <td>0.000000</td>\n",
              "      <td>0.740785</td>\n",
              "      <td>0.001247</td>\n",
              "      <td>0.043322</td>\n",
              "      <td>0.000000</td>\n",
              "      <td>0.186820</td>\n",
              "      <td>0.525219</td>\n",
              "      <td>0.000000</td>\n",
              "      <td>0.266667</td>\n",
              "      <td>0.600000</td>\n",
              "      <td>0.073831</td>\n",
              "      <td>0.076833</td>\n",
              "      <td>0.395062</td>\n",
              "      <td>0.976308</td>\n",
              "      <td>0.964654</td>\n",
              "    </tr>\n",
              "    <tr>\n",
              "      <th>max</th>\n",
              "      <td>9415.000000</td>\n",
              "      <td>10000000.000000</td>\n",
              "      <td>3112000.000000</td>\n",
              "      <td>163116.717700</td>\n",
              "      <td>2.320652</td>\n",
              "      <td>1.000000</td>\n",
              "      <td>1.000000</td>\n",
              "      <td>1.000000</td>\n",
              "      <td>1.000000</td>\n",
              "      <td>1.000000</td>\n",
              "      <td>1.000000</td>\n",
              "      <td>1.000000</td>\n",
              "      <td>0.999974</td>\n",
              "      <td>1.000000</td>\n",
              "      <td>1.000000</td>\n",
              "      <td>1.000000</td>\n",
              "      <td>1.000000</td>\n",
              "      <td>1.000000</td>\n",
              "      <td>1.000000</td>\n",
              "      <td>1.000000</td>\n",
              "      <td>1.000000</td>\n",
              "      <td>1.000000</td>\n",
              "      <td>1.000000</td>\n",
              "      <td>1.000000</td>\n",
              "      <td>1.000000</td>\n",
              "      <td>1.000000</td>\n",
              "    </tr>\n",
              "  </tbody>\n",
              "</table>\n",
              "</div>"
            ],
            "text/plain": [
              "           CODIGO  LIMITE_CEDENTE  ...    RISCO_20    RISCO_21\n",
              "count 9413.000000     9413.000000  ... 9413.000000 9413.000000\n",
              "mean  4708.583873  5753486.792521  ...    0.826680    0.678616\n",
              "std   2718.005696  3259715.859710  ...    0.222563    0.336308\n",
              "min      1.000000        0.000000  ...    0.000000    0.000000\n",
              "25%   2355.000000  2500000.000000  ...    0.822073    0.417284\n",
              "50%   4709.000000  6964286.000000  ...    0.885640    0.830255\n",
              "75%   7062.000000  8035714.000000  ...    0.976308    0.964654\n",
              "max   9415.000000 10000000.000000  ...    1.000000    1.000000\n",
              "\n",
              "[8 rows x 26 columns]"
            ]
          },
          "metadata": {
            "tags": []
          },
          "execution_count": 16
        }
      ]
    },
    {
      "cell_type": "code",
      "metadata": {
        "id": "CiZHXXNXcAnG",
        "colab": {
          "base_uri": "https://localhost:8080/"
        },
        "outputId": "232f0f2e-b258-428b-c080-a6dbec63a5d6"
      },
      "source": [
        "# Verificação da quantidade de VALOR_REAL acima de 20.000,00\r\n",
        "print(\"Quantidade de contratos com VALOR_REAL acima de 20000.00:\")\r\n",
        "print(\"{} entradas\".format(len(df_clean[df_clean.VALOR_REAL > 20000.00])))\r\n",
        "print('\\n')\r\n",
        "print(\"Percentual em relação ao total de contratos\")\r\n",
        "print(\"{:.4f}%\".format((len(df_clean[df_clean.VALOR_REAL > 20000.00]) / df_clean.shape[0])*100))"
      ],
      "execution_count": null,
      "outputs": [
        {
          "output_type": "stream",
          "text": [
            "Quantidade de contratos com VALOR_REAL acima de 20000.00:\n",
            "520 entradas\n",
            "\n",
            "\n",
            "Percentual em relação ao total de contratos\n",
            "5.5243%\n"
          ],
          "name": "stdout"
        }
      ]
    },
    {
      "cell_type": "code",
      "metadata": {
        "id": "fLwZMkEAcbS-"
      },
      "source": [
        "# Removendo OUTLIERS\r\n",
        "df_clean.drop(df_clean[df_clean.VALOR_REAL > 20000.00].index, axis=0, inplace=True)"
      ],
      "execution_count": null,
      "outputs": []
    },
    {
      "cell_type": "markdown",
      "metadata": {
        "id": "22qPgMB6cc64"
      },
      "source": [
        "##Valor_Desagio"
      ]
    },
    {
      "cell_type": "code",
      "metadata": {
        "colab": {
          "base_uri": "https://localhost:8080/",
          "height": 252
        },
        "id": "ckoo3tKcgjLI",
        "outputId": "d9199aec-5eba-48ef-8cd0-0c521ab1ebd7"
      },
      "source": [
        "# Grafico BOXPLOT\r\n",
        "import seaborn as sns\r\n",
        "sns.set_theme(style=\"whitegrid\")\r\n",
        "#tips = sns.load_dataset(\"df\")\r\n",
        "ax = sns.boxplot(y=df_clean[\"VALOR_DESAGIO\"],orient=\"Horizontal\")"
      ],
      "execution_count": null,
      "outputs": [
        {
          "output_type": "display_data",
          "data": {
            "image/png": "[encoded data removed]",
            "text/plain": [
              "<Figure size 432x288 with 1 Axes>"
            ]
          },
          "metadata": {
            "tags": []
          }
        }
      ]
    },
    {
      "cell_type": "code",
      "metadata": {
        "id": "Sv27Moswcp5u",
        "colab": {
          "base_uri": "https://localhost:8080/"
        },
        "outputId": "c8a40bd9-2808-4c3a-e017-8775abe0e0b1"
      },
      "source": [
        "# Valor Desagio\r\n",
        "print(\"Valor Desagio : valores acima de 3000.00:\")\r\n",
        "print(\"{} entradas\".format(len(df_clean[df_clean.VALOR_DESAGIO > 3000])))\r\n",
        "print(\"{:.4f}%\".format((len(df_clean[df_clean.VALOR_DESAGIO > 3000]) / df_clean.shape[0])*100))"
      ],
      "execution_count": null,
      "outputs": [
        {
          "output_type": "stream",
          "text": [
            "Valor Desagio : valores acima de 3000.00:\n",
            "2 entradas\n",
            "0.0225%\n"
          ],
          "name": "stdout"
        }
      ]
    },
    {
      "cell_type": "code",
      "metadata": {
        "id": "jXD6xaMReFYS"
      },
      "source": [
        "# Removendo OUTLIERS\r\n",
        "df_clean.drop(df_clean[df_clean.VALOR_DESAGIO > 3000].index, axis=0, inplace=True)"
      ],
      "execution_count": null,
      "outputs": []
    },
    {
      "cell_type": "markdown",
      "metadata": {
        "id": "LTtc3V0UeJJe"
      },
      "source": [
        "## Taxa_Mensal \r\n",
        "\r\n"
      ]
    },
    {
      "cell_type": "code",
      "metadata": {
        "colab": {
          "base_uri": "https://localhost:8080/",
          "height": 248
        },
        "id": "OskuGXhgeVXy",
        "outputId": "43649829-91a6-422b-8ddd-48e2e2ca5b4c"
      },
      "source": [
        "import seaborn as sns\r\n",
        "sns.set_theme(style=\"whitegrid\")\r\n",
        "#tips = sns.load_dataset(\"df\")\r\n",
        "ax = sns.boxplot(y=df_clean[\"TAXA_MENSAL\"],orient=\"Horizontal\")"
      ],
      "execution_count": null,
      "outputs": [
        {
          "output_type": "display_data",
          "data": {
            "image/png": "[encoded data removed]",
            "text/plain": [
              "<Figure size 432x288 with 1 Axes>"
            ]
          },
          "metadata": {
            "tags": []
          }
        }
      ]
    },
    {
      "cell_type": "code",
      "metadata": {
        "colab": {
          "base_uri": "https://localhost:8080/"
        },
        "id": "Li1N2aLQhOug",
        "outputId": "60b0b242-8459-4a45-f282-7ac0b0135e45"
      },
      "source": [
        "# Taxa Mensal\r\n",
        "print(\"Taxa Mensal : valores acima de 0.6\")\r\n",
        "print(\"{} entradas\".format(len(df[df.TAXA_MENSAL > 0.6])))\r\n",
        "print(\"{:.4f}%\".format((len(df[df.TAXA_MENSAL > 0.6]) / df.shape[0])*100))"
      ],
      "execution_count": null,
      "outputs": [
        {
          "output_type": "stream",
          "text": [
            "Taxa Mensal : valores acima de 0.6\n",
            "8 entradas\n",
            "0.0850%\n"
          ],
          "name": "stdout"
        }
      ]
    },
    {
      "cell_type": "code",
      "metadata": {
        "id": "9y4EWhVZhc54"
      },
      "source": [
        "# Removendo OUTLIERS\r\n",
        "df_clean.drop(df_clean[df_clean.TAXA_MENSAL > 0.6].index, axis=0, inplace=True)"
      ],
      "execution_count": null,
      "outputs": []
    },
    {
      "cell_type": "code",
      "metadata": {
        "colab": {
          "base_uri": "https://localhost:8080/"
        },
        "id": "g08bKmZ_hson",
        "outputId": "286da31e-5c17-4b99-a910-fad6514fcf40"
      },
      "source": [
        "# Taxa Mensal\r\n",
        "print(\"Taxa Mensal : valores menores que 0\")\r\n",
        "print(\"{} entradas\".format(len(df_clean[df_clean.TAXA_MENSAL < 0.00])))\r\n",
        "print(\"{:.4f}%\".format((len(df_clean[df_clean.TAXA_MENSAL < 0.00]) / df_clean.shape[0])*100))"
      ],
      "execution_count": null,
      "outputs": [
        {
          "output_type": "stream",
          "text": [
            "Taxa Mensal : valores menores que 0\n",
            "0 entradas\n",
            "0.0000%\n"
          ],
          "name": "stdout"
        }
      ]
    },
    {
      "cell_type": "markdown",
      "metadata": {
        "id": "tffSmCOJcOMt"
      },
      "source": [
        "### Gravando no arquivo tratado \r\n",
        "- Sem `Outliers`\r\n",
        "- Tratamento de dados nulos ou faltantes\r\n",
        "- Nome do arquivo `BASE_TITULOS_CLEAN.txt`\r\n",
        "- Será usado nos exercícios 2 e 3\r\n"
      ]
    },
    {
      "cell_type": "code",
      "metadata": {
        "id": "0gAHmVVFMGN1"
      },
      "source": [
        "# Gravar arquivo já tratado para ser utilizado nas outras atividades\r\n",
        "df_clean.to_csv('BASE_TITULOS_CLEAN.txt',index=False,sep='\\t')"
      ],
      "execution_count": null,
      "outputs": []
    },
    {
      "cell_type": "markdown",
      "metadata": {
        "id": "wNafkZZedDp1"
      },
      "source": [
        "### Removendo as colunas de `Risco_XX`"
      ]
    },
    {
      "cell_type": "code",
      "metadata": {
        "id": "dXUGxgrVOttU"
      },
      "source": [
        "# Removendo as colunas RISCO_XX que não serão consideradas na análise descritiva\r\n",
        "df_clean.drop(['RISCO_1','RISCO_2', 'RISCO_3', 'RISCO_4', 'RISCO_5', 'RISCO_6', 'RISCO_7', 'RISCO_8', 'RISCO_9','RISCO_10',\r\n",
        "         'RISCO_11','RISCO_12','RISCO_13','RISCO_14','RISCO_15', 'RISCO_16','RISCO_17', 'RISCO_18', 'RISCO_19', 'RISCO_20', 'RISCO_21'], axis = 1, inplace = True) "
      ],
      "execution_count": null,
      "outputs": []
    },
    {
      "cell_type": "markdown",
      "metadata": {
        "id": "K21N3Pl1h7tc"
      },
      "source": [
        "## Gráficos sem OUTLIERS"
      ]
    },
    {
      "cell_type": "markdown",
      "metadata": {
        "id": "iWOAgJjhi-le"
      },
      "source": [
        "### Análise para o LIMITE_CEDENTE"
      ]
    },
    {
      "cell_type": "code",
      "metadata": {
        "colab": {
          "base_uri": "https://localhost:8080/",
          "height": 259
        },
        "id": "_XSxQZ0wjGEg",
        "outputId": "c9438aa1-dfda-4d23-d6f6-4047ebe9bfaa"
      },
      "source": [
        "# Gráfico do tipo BOXPLOT para LIMITE_CEDENTE \r\n",
        "import seaborn as sns\r\n",
        "sns.set_theme(style=\"whitegrid\")\r\n",
        "#tips = sns.load_dataset(\"df\")\r\n",
        "ax = sns.boxplot(y=df_clean[\"LIMITE_CEDENTE\"],orient=\"Horizontal\")"
      ],
      "execution_count": null,
      "outputs": [
        {
          "output_type": "display_data",
          "data": {
            "image/png": "[encoded data removed]",
            "text/plain": [
              "<Figure size 432x288 with 1 Axes>"
            ]
          },
          "metadata": {
            "tags": []
          }
        }
      ]
    },
    {
      "cell_type": "code",
      "metadata": {
        "colab": {
          "base_uri": "https://localhost:8080/",
          "height": 288
        },
        "id": "Ja6Xq1UQju6C",
        "outputId": "12fc0c99-9ea9-4c25-8fba-43267d4925ad"
      },
      "source": [
        "df_clean.describe()"
      ],
      "execution_count": null,
      "outputs": [
        {
          "output_type": "execute_result",
          "data": {
            "text/html": [
              "<div>\n",
              "<style scoped>\n",
              "    .dataframe tbody tr th:only-of-type {\n",
              "        vertical-align: middle;\n",
              "    }\n",
              "\n",
              "    .dataframe tbody tr th {\n",
              "        vertical-align: top;\n",
              "    }\n",
              "\n",
              "    .dataframe thead th {\n",
              "        text-align: right;\n",
              "    }\n",
              "</style>\n",
              "<table border=\"1\" class=\"dataframe\">\n",
              "  <thead>\n",
              "    <tr style=\"text-align: right;\">\n",
              "      <th></th>\n",
              "      <th>CODIGO</th>\n",
              "      <th>LIMITE_CEDENTE</th>\n",
              "      <th>VALOR_REAL</th>\n",
              "      <th>VALOR_DESAGIO</th>\n",
              "      <th>TAXA_MENSAL</th>\n",
              "    </tr>\n",
              "  </thead>\n",
              "  <tbody>\n",
              "    <tr>\n",
              "      <th>count</th>\n",
              "      <td>8886.000000</td>\n",
              "      <td>8886.000000</td>\n",
              "      <td>8886.000000</td>\n",
              "      <td>8886.000000</td>\n",
              "      <td>8886.000000</td>\n",
              "    </tr>\n",
              "    <tr>\n",
              "      <th>mean</th>\n",
              "      <td>4755.856178</td>\n",
              "      <td>5789910.265924</td>\n",
              "      <td>2238.741645</td>\n",
              "      <td>160.054815</td>\n",
              "      <td>0.044690</td>\n",
              "    </tr>\n",
              "    <tr>\n",
              "      <th>std</th>\n",
              "      <td>2710.170567</td>\n",
              "      <td>3253582.396181</td>\n",
              "      <td>3377.094792</td>\n",
              "      <td>256.145442</td>\n",
              "      <td>0.037045</td>\n",
              "    </tr>\n",
              "    <tr>\n",
              "      <th>min</th>\n",
              "      <td>1.000000</td>\n",
              "      <td>0.000000</td>\n",
              "      <td>17.240000</td>\n",
              "      <td>0.174568</td>\n",
              "      <td>0.000032</td>\n",
              "    </tr>\n",
              "    <tr>\n",
              "      <th>25%</th>\n",
              "      <td>2426.250000</td>\n",
              "      <td>2500000.000000</td>\n",
              "      <td>462.840000</td>\n",
              "      <td>30.089320</td>\n",
              "      <td>0.023453</td>\n",
              "    </tr>\n",
              "    <tr>\n",
              "      <th>50%</th>\n",
              "      <td>4777.500000</td>\n",
              "      <td>6964286.000000</td>\n",
              "      <td>886.240000</td>\n",
              "      <td>70.036612</td>\n",
              "      <td>0.034338</td>\n",
              "    </tr>\n",
              "    <tr>\n",
              "      <th>75%</th>\n",
              "      <td>7092.500000</td>\n",
              "      <td>8928571.000000</td>\n",
              "      <td>2250.330000</td>\n",
              "      <td>170.257986</td>\n",
              "      <td>0.053826</td>\n",
              "    </tr>\n",
              "    <tr>\n",
              "      <th>max</th>\n",
              "      <td>9415.000000</td>\n",
              "      <td>10000000.000000</td>\n",
              "      <td>19968.010000</td>\n",
              "      <td>2805.329788</td>\n",
              "      <td>0.560505</td>\n",
              "    </tr>\n",
              "  </tbody>\n",
              "</table>\n",
              "</div>"
            ],
            "text/plain": [
              "           CODIGO  LIMITE_CEDENTE   VALOR_REAL  VALOR_DESAGIO  TAXA_MENSAL\n",
              "count 8886.000000     8886.000000  8886.000000    8886.000000  8886.000000\n",
              "mean  4755.856178  5789910.265924  2238.741645     160.054815     0.044690\n",
              "std   2710.170567  3253582.396181  3377.094792     256.145442     0.037045\n",
              "min      1.000000        0.000000    17.240000       0.174568     0.000032\n",
              "25%   2426.250000  2500000.000000   462.840000      30.089320     0.023453\n",
              "50%   4777.500000  6964286.000000   886.240000      70.036612     0.034338\n",
              "75%   7092.500000  8928571.000000  2250.330000     170.257986     0.053826\n",
              "max   9415.000000 10000000.000000 19968.010000    2805.329788     0.560505"
            ]
          },
          "metadata": {
            "tags": []
          },
          "execution_count": 29
        }
      ]
    },
    {
      "cell_type": "markdown",
      "metadata": {
        "id": "SwV4lpJYjXRv"
      },
      "source": [
        "#### Distribuição para LIMITE_CEDENTE </h3>\r\n",
        "<li> Até 25% dos contratos o Limite_Cedente é : 2.500.000,00\r\n",
        "<li> Até 50% dos contratos o Limite_Cedente é : 6.964.286,00\r\n",
        "<li> Até 75% dos contratos o Limite_Cedente é : 8.035.714,00\r\n",
        "<li> Maior valor do Limite_Cedente é : 10.000.000.00"
      ]
    },
    {
      "cell_type": "markdown",
      "metadata": {
        "id": "xeJrnZN2kAV_"
      },
      "source": [
        "### Análise para o VALOR_REAL"
      ]
    },
    {
      "cell_type": "code",
      "metadata": {
        "colab": {
          "base_uri": "https://localhost:8080/",
          "height": 248
        },
        "id": "idIA3eeFkFlo",
        "outputId": "2fac15c8-348c-4dda-cfe9-8b1f61cb11b1"
      },
      "source": [
        "# Grafico BOXPLOT\r\n",
        "import seaborn as sns\r\n",
        "sns.set_theme(style=\"whitegrid\")\r\n",
        "#tips = sns.load_dataset(\"df\")\r\n",
        "ax = sns.boxplot(y=df_clean[\"VALOR_REAL\"],orient=\"Horizontal\")"
      ],
      "execution_count": null,
      "outputs": [
        {
          "output_type": "display_data",
          "data": {
            "image/png": "[encoded data removed]",
            "text/plain": [
              "<Figure size 432x288 with 1 Axes>"
            ]
          },
          "metadata": {
            "tags": []
          }
        }
      ]
    },
    {
      "cell_type": "code",
      "metadata": {
        "id": "VYJzUNVtkNj-",
        "colab": {
          "base_uri": "https://localhost:8080/",
          "height": 288
        },
        "outputId": "34ec1cfb-a7ee-452a-b7f6-50168c5f3e5f"
      },
      "source": [
        "df_clean.describe()"
      ],
      "execution_count": null,
      "outputs": [
        {
          "output_type": "execute_result",
          "data": {
            "text/html": [
              "<div>\n",
              "<style scoped>\n",
              "    .dataframe tbody tr th:only-of-type {\n",
              "        vertical-align: middle;\n",
              "    }\n",
              "\n",
              "    .dataframe tbody tr th {\n",
              "        vertical-align: top;\n",
              "    }\n",
              "\n",
              "    .dataframe thead th {\n",
              "        text-align: right;\n",
              "    }\n",
              "</style>\n",
              "<table border=\"1\" class=\"dataframe\">\n",
              "  <thead>\n",
              "    <tr style=\"text-align: right;\">\n",
              "      <th></th>\n",
              "      <th>CODIGO</th>\n",
              "      <th>LIMITE_CEDENTE</th>\n",
              "      <th>VALOR_REAL</th>\n",
              "      <th>VALOR_DESAGIO</th>\n",
              "      <th>TAXA_MENSAL</th>\n",
              "    </tr>\n",
              "  </thead>\n",
              "  <tbody>\n",
              "    <tr>\n",
              "      <th>count</th>\n",
              "      <td>8886.000000</td>\n",
              "      <td>8886.000000</td>\n",
              "      <td>8886.000000</td>\n",
              "      <td>8886.000000</td>\n",
              "      <td>8886.000000</td>\n",
              "    </tr>\n",
              "    <tr>\n",
              "      <th>mean</th>\n",
              "      <td>4755.856178</td>\n",
              "      <td>5789910.265924</td>\n",
              "      <td>2238.741645</td>\n",
              "      <td>160.054815</td>\n",
              "      <td>0.044690</td>\n",
              "    </tr>\n",
              "    <tr>\n",
              "      <th>std</th>\n",
              "      <td>2710.170567</td>\n",
              "      <td>3253582.396181</td>\n",
              "      <td>3377.094792</td>\n",
              "      <td>256.145442</td>\n",
              "      <td>0.037045</td>\n",
              "    </tr>\n",
              "    <tr>\n",
              "      <th>min</th>\n",
              "      <td>1.000000</td>\n",
              "      <td>0.000000</td>\n",
              "      <td>17.240000</td>\n",
              "      <td>0.174568</td>\n",
              "      <td>0.000032</td>\n",
              "    </tr>\n",
              "    <tr>\n",
              "      <th>25%</th>\n",
              "      <td>2426.250000</td>\n",
              "      <td>2500000.000000</td>\n",
              "      <td>462.840000</td>\n",
              "      <td>30.089320</td>\n",
              "      <td>0.023453</td>\n",
              "    </tr>\n",
              "    <tr>\n",
              "      <th>50%</th>\n",
              "      <td>4777.500000</td>\n",
              "      <td>6964286.000000</td>\n",
              "      <td>886.240000</td>\n",
              "      <td>70.036612</td>\n",
              "      <td>0.034338</td>\n",
              "    </tr>\n",
              "    <tr>\n",
              "      <th>75%</th>\n",
              "      <td>7092.500000</td>\n",
              "      <td>8928571.000000</td>\n",
              "      <td>2250.330000</td>\n",
              "      <td>170.257986</td>\n",
              "      <td>0.053826</td>\n",
              "    </tr>\n",
              "    <tr>\n",
              "      <th>max</th>\n",
              "      <td>9415.000000</td>\n",
              "      <td>10000000.000000</td>\n",
              "      <td>19968.010000</td>\n",
              "      <td>2805.329788</td>\n",
              "      <td>0.560505</td>\n",
              "    </tr>\n",
              "  </tbody>\n",
              "</table>\n",
              "</div>"
            ],
            "text/plain": [
              "           CODIGO  LIMITE_CEDENTE   VALOR_REAL  VALOR_DESAGIO  TAXA_MENSAL\n",
              "count 8886.000000     8886.000000  8886.000000    8886.000000  8886.000000\n",
              "mean  4755.856178  5789910.265924  2238.741645     160.054815     0.044690\n",
              "std   2710.170567  3253582.396181  3377.094792     256.145442     0.037045\n",
              "min      1.000000        0.000000    17.240000       0.174568     0.000032\n",
              "25%   2426.250000  2500000.000000   462.840000      30.089320     0.023453\n",
              "50%   4777.500000  6964286.000000   886.240000      70.036612     0.034338\n",
              "75%   7092.500000  8928571.000000  2250.330000     170.257986     0.053826\n",
              "max   9415.000000 10000000.000000 19968.010000    2805.329788     0.560505"
            ]
          },
          "metadata": {
            "tags": []
          },
          "execution_count": 31
        }
      ]
    },
    {
      "cell_type": "markdown",
      "metadata": {
        "id": "BeN10t2PlwBy"
      },
      "source": [
        "#### Distribuição para VALOR_REAL </h3>\r\n",
        "<li> Até 25% dos contratos o Valor_Real é de : 462,84\r\n",
        "<li> Até 50% dos contratos o Valor_Real é de : 886,24\r\n",
        "<li> Até 75% dos contratos o Valor_Real é de : 2.250,33\r\n",
        "<li> Maior valor do Valor_Real é : 19.968,01"
      ]
    },
    {
      "cell_type": "markdown",
      "metadata": {
        "id": "obKzPVrLmH6g"
      },
      "source": [
        "### Análise para o VALOR_DESAGIO"
      ]
    },
    {
      "cell_type": "code",
      "metadata": {
        "colab": {
          "base_uri": "https://localhost:8080/",
          "height": 248
        },
        "id": "1p6JL2qgmAJZ",
        "outputId": "4336635e-f902-4091-e488-a3766d510bfd"
      },
      "source": [
        "# Gráfico do tipo BOXPLOT para VALOR_DESAGIO\r\n",
        "ax = sns.boxplot(y=df_clean[\"VALOR_DESAGIO\"],orient=\"Horizontal\")"
      ],
      "execution_count": null,
      "outputs": [
        {
          "output_type": "display_data",
          "data": {
            "image/png": "[encoded data removed]",
            "text/plain": [
              "<Figure size 432x288 with 1 Axes>"
            ]
          },
          "metadata": {
            "tags": []
          }
        }
      ]
    },
    {
      "cell_type": "code",
      "metadata": {
        "id": "RyMEfkdHlpzu",
        "colab": {
          "base_uri": "https://localhost:8080/",
          "height": 288
        },
        "outputId": "b58c5480-6e86-4cba-c622-c96dea688159"
      },
      "source": [
        "df_clean.describe()"
      ],
      "execution_count": null,
      "outputs": [
        {
          "output_type": "execute_result",
          "data": {
            "text/html": [
              "<div>\n",
              "<style scoped>\n",
              "    .dataframe tbody tr th:only-of-type {\n",
              "        vertical-align: middle;\n",
              "    }\n",
              "\n",
              "    .dataframe tbody tr th {\n",
              "        vertical-align: top;\n",
              "    }\n",
              "\n",
              "    .dataframe thead th {\n",
              "        text-align: right;\n",
              "    }\n",
              "</style>\n",
              "<table border=\"1\" class=\"dataframe\">\n",
              "  <thead>\n",
              "    <tr style=\"text-align: right;\">\n",
              "      <th></th>\n",
              "      <th>CODIGO</th>\n",
              "      <th>LIMITE_CEDENTE</th>\n",
              "      <th>VALOR_REAL</th>\n",
              "      <th>VALOR_DESAGIO</th>\n",
              "      <th>TAXA_MENSAL</th>\n",
              "    </tr>\n",
              "  </thead>\n",
              "  <tbody>\n",
              "    <tr>\n",
              "      <th>count</th>\n",
              "      <td>8886.000000</td>\n",
              "      <td>8886.000000</td>\n",
              "      <td>8886.000000</td>\n",
              "      <td>8886.000000</td>\n",
              "      <td>8886.000000</td>\n",
              "    </tr>\n",
              "    <tr>\n",
              "      <th>mean</th>\n",
              "      <td>4755.856178</td>\n",
              "      <td>5789910.265924</td>\n",
              "      <td>2238.741645</td>\n",
              "      <td>160.054815</td>\n",
              "      <td>0.044690</td>\n",
              "    </tr>\n",
              "    <tr>\n",
              "      <th>std</th>\n",
              "      <td>2710.170567</td>\n",
              "      <td>3253582.396181</td>\n",
              "      <td>3377.094792</td>\n",
              "      <td>256.145442</td>\n",
              "      <td>0.037045</td>\n",
              "    </tr>\n",
              "    <tr>\n",
              "      <th>min</th>\n",
              "      <td>1.000000</td>\n",
              "      <td>0.000000</td>\n",
              "      <td>17.240000</td>\n",
              "      <td>0.174568</td>\n",
              "      <td>0.000032</td>\n",
              "    </tr>\n",
              "    <tr>\n",
              "      <th>25%</th>\n",
              "      <td>2426.250000</td>\n",
              "      <td>2500000.000000</td>\n",
              "      <td>462.840000</td>\n",
              "      <td>30.089320</td>\n",
              "      <td>0.023453</td>\n",
              "    </tr>\n",
              "    <tr>\n",
              "      <th>50%</th>\n",
              "      <td>4777.500000</td>\n",
              "      <td>6964286.000000</td>\n",
              "      <td>886.240000</td>\n",
              "      <td>70.036612</td>\n",
              "      <td>0.034338</td>\n",
              "    </tr>\n",
              "    <tr>\n",
              "      <th>75%</th>\n",
              "      <td>7092.500000</td>\n",
              "      <td>8928571.000000</td>\n",
              "      <td>2250.330000</td>\n",
              "      <td>170.257986</td>\n",
              "      <td>0.053826</td>\n",
              "    </tr>\n",
              "    <tr>\n",
              "      <th>max</th>\n",
              "      <td>9415.000000</td>\n",
              "      <td>10000000.000000</td>\n",
              "      <td>19968.010000</td>\n",
              "      <td>2805.329788</td>\n",
              "      <td>0.560505</td>\n",
              "    </tr>\n",
              "  </tbody>\n",
              "</table>\n",
              "</div>"
            ],
            "text/plain": [
              "           CODIGO  LIMITE_CEDENTE   VALOR_REAL  VALOR_DESAGIO  TAXA_MENSAL\n",
              "count 8886.000000     8886.000000  8886.000000    8886.000000  8886.000000\n",
              "mean  4755.856178  5789910.265924  2238.741645     160.054815     0.044690\n",
              "std   2710.170567  3253582.396181  3377.094792     256.145442     0.037045\n",
              "min      1.000000        0.000000    17.240000       0.174568     0.000032\n",
              "25%   2426.250000  2500000.000000   462.840000      30.089320     0.023453\n",
              "50%   4777.500000  6964286.000000   886.240000      70.036612     0.034338\n",
              "75%   7092.500000  8928571.000000  2250.330000     170.257986     0.053826\n",
              "max   9415.000000 10000000.000000 19968.010000    2805.329788     0.560505"
            ]
          },
          "metadata": {
            "tags": []
          },
          "execution_count": 33
        }
      ]
    },
    {
      "cell_type": "markdown",
      "metadata": {
        "id": "AztoHxMjmwoq"
      },
      "source": [
        "#### Distribuição para VALOR_DESAGIO </h3>\r\n",
        "<li> Até 25% dos contratos o Valor_Desagio é de : 30,09\r\n",
        "<li> Até 50% dos contratos o Valor_Desagio é de : 70,04\r\n",
        "<li> Até 75% dos contratos o Valor_Desagio é de : 170,26\r\n",
        "<li> Maior valor do Valor_Desagio é : 2.805,33"
      ]
    },
    {
      "cell_type": "markdown",
      "metadata": {
        "id": "vsP4eBgqoe8a"
      },
      "source": [
        "### Análise para TAXA_MENSAL"
      ]
    },
    {
      "cell_type": "code",
      "metadata": {
        "colab": {
          "base_uri": "https://localhost:8080/",
          "height": 248
        },
        "id": "zAL_6ERSoltB",
        "outputId": "a836fe49-1fa4-475e-f8ef-a0f0bbd395b5"
      },
      "source": [
        "ax = sns.boxplot(y=df_clean[\"TAXA_MENSAL\"],orient=\"Horizontal\")"
      ],
      "execution_count": null,
      "outputs": [
        {
          "output_type": "display_data",
          "data": {
            "image/png": "[encoded data removed]",
            "text/plain": [
              "<Figure size 432x288 with 1 Axes>"
            ]
          },
          "metadata": {
            "tags": []
          }
        }
      ]
    },
    {
      "cell_type": "code",
      "metadata": {
        "colab": {
          "base_uri": "https://localhost:8080/",
          "height": 288
        },
        "id": "vOgalDvOkI1_",
        "outputId": "ca5925b4-e945-4d13-fdee-4c7e49f8aeb3"
      },
      "source": [
        "df_clean.describe()"
      ],
      "execution_count": null,
      "outputs": [
        {
          "output_type": "execute_result",
          "data": {
            "text/html": [
              "<div>\n",
              "<style scoped>\n",
              "    .dataframe tbody tr th:only-of-type {\n",
              "        vertical-align: middle;\n",
              "    }\n",
              "\n",
              "    .dataframe tbody tr th {\n",
              "        vertical-align: top;\n",
              "    }\n",
              "\n",
              "    .dataframe thead th {\n",
              "        text-align: right;\n",
              "    }\n",
              "</style>\n",
              "<table border=\"1\" class=\"dataframe\">\n",
              "  <thead>\n",
              "    <tr style=\"text-align: right;\">\n",
              "      <th></th>\n",
              "      <th>CODIGO</th>\n",
              "      <th>LIMITE_CEDENTE</th>\n",
              "      <th>VALOR_REAL</th>\n",
              "      <th>VALOR_DESAGIO</th>\n",
              "      <th>TAXA_MENSAL</th>\n",
              "    </tr>\n",
              "  </thead>\n",
              "  <tbody>\n",
              "    <tr>\n",
              "      <th>count</th>\n",
              "      <td>8886.000000</td>\n",
              "      <td>8886.000000</td>\n",
              "      <td>8886.000000</td>\n",
              "      <td>8886.000000</td>\n",
              "      <td>8886.000000</td>\n",
              "    </tr>\n",
              "    <tr>\n",
              "      <th>mean</th>\n",
              "      <td>4755.856178</td>\n",
              "      <td>5789910.265924</td>\n",
              "      <td>2238.741645</td>\n",
              "      <td>160.054815</td>\n",
              "      <td>0.044690</td>\n",
              "    </tr>\n",
              "    <tr>\n",
              "      <th>std</th>\n",
              "      <td>2710.170567</td>\n",
              "      <td>3253582.396181</td>\n",
              "      <td>3377.094792</td>\n",
              "      <td>256.145442</td>\n",
              "      <td>0.037045</td>\n",
              "    </tr>\n",
              "    <tr>\n",
              "      <th>min</th>\n",
              "      <td>1.000000</td>\n",
              "      <td>0.000000</td>\n",
              "      <td>17.240000</td>\n",
              "      <td>0.174568</td>\n",
              "      <td>0.000032</td>\n",
              "    </tr>\n",
              "    <tr>\n",
              "      <th>25%</th>\n",
              "      <td>2426.250000</td>\n",
              "      <td>2500000.000000</td>\n",
              "      <td>462.840000</td>\n",
              "      <td>30.089320</td>\n",
              "      <td>0.023453</td>\n",
              "    </tr>\n",
              "    <tr>\n",
              "      <th>50%</th>\n",
              "      <td>4777.500000</td>\n",
              "      <td>6964286.000000</td>\n",
              "      <td>886.240000</td>\n",
              "      <td>70.036612</td>\n",
              "      <td>0.034338</td>\n",
              "    </tr>\n",
              "    <tr>\n",
              "      <th>75%</th>\n",
              "      <td>7092.500000</td>\n",
              "      <td>8928571.000000</td>\n",
              "      <td>2250.330000</td>\n",
              "      <td>170.257986</td>\n",
              "      <td>0.053826</td>\n",
              "    </tr>\n",
              "    <tr>\n",
              "      <th>max</th>\n",
              "      <td>9415.000000</td>\n",
              "      <td>10000000.000000</td>\n",
              "      <td>19968.010000</td>\n",
              "      <td>2805.329788</td>\n",
              "      <td>0.560505</td>\n",
              "    </tr>\n",
              "  </tbody>\n",
              "</table>\n",
              "</div>"
            ],
            "text/plain": [
              "           CODIGO  LIMITE_CEDENTE   VALOR_REAL  VALOR_DESAGIO  TAXA_MENSAL\n",
              "count 8886.000000     8886.000000  8886.000000    8886.000000  8886.000000\n",
              "mean  4755.856178  5789910.265924  2238.741645     160.054815     0.044690\n",
              "std   2710.170567  3253582.396181  3377.094792     256.145442     0.037045\n",
              "min      1.000000        0.000000    17.240000       0.174568     0.000032\n",
              "25%   2426.250000  2500000.000000   462.840000      30.089320     0.023453\n",
              "50%   4777.500000  6964286.000000   886.240000      70.036612     0.034338\n",
              "75%   7092.500000  8928571.000000  2250.330000     170.257986     0.053826\n",
              "max   9415.000000 10000000.000000 19968.010000    2805.329788     0.560505"
            ]
          },
          "metadata": {
            "tags": []
          },
          "execution_count": 35
        }
      ]
    },
    {
      "cell_type": "markdown",
      "metadata": {
        "id": "ajBL__BFos57"
      },
      "source": [
        "#### Distribuição para TAXA_MENSAL </h3>\r\n",
        "<li> Até 25% dos contratos a Taxa_Mensal é de : 0.023453\r\n",
        "<li> Até 50% dos contratos a Taxa_Mensal é de : 0.034338\r\n",
        "<li> Até 75% dos contratos a Taxa_Mensal é de : 0.053826\r\n",
        "<li> Maior valor da Taxa_Mensal é : 0.560505"
      ]
    },
    {
      "cell_type": "markdown",
      "metadata": {
        "id": "9qsc1e6BpBVO"
      },
      "source": [
        "### Análise STATUS_LIQ_TITULO"
      ]
    },
    {
      "cell_type": "code",
      "metadata": {
        "colab": {
          "base_uri": "https://localhost:8080/"
        },
        "id": "FH1WFGBOAv32",
        "outputId": "95aa21c9-05ea-492a-baaf-acd9848d1626"
      },
      "source": [
        "# Analisar a porcentagem de acordo com Status_Liq_Titulo\r\n",
        "# Em dia e Atraso\r\n",
        "\r\n",
        "print(round((df['STATUS_LIQ_TITULO'].value_counts() / df.shape[0] )*100,2));"
      ],
      "execution_count": null,
      "outputs": [
        {
          "output_type": "stream",
          "text": [
            "EM_DIA   80.170000\n",
            "ATRASO   19.830000\n",
            "Name: STATUS_LIQ_TITULO, dtype: float64\n"
          ],
          "name": "stdout"
        }
      ]
    },
    {
      "cell_type": "code",
      "metadata": {
        "colab": {
          "base_uri": "https://localhost:8080/",
          "height": 248
        },
        "id": "N1gzDSesbwDq",
        "outputId": "0f9b78fe-e860-4c69-c680-d60bb2762162"
      },
      "source": [
        "# Grafico de Pizza\r\n",
        "import matplotlib.pyplot as plt\r\n",
        "\r\n",
        "labels = 'EM DIA', 'ATRASO'\r\n",
        "sizes = [80.17, 19.83]\r\n",
        "fig1, ax1 = plt.subplots()\r\n",
        "ax1.pie(sizes, labels=labels, autopct='%1.2f%%',)\r\n",
        "ax1.axis('equal')\r\n",
        "plt.show()"
      ],
      "execution_count": null,
      "outputs": [
        {
          "output_type": "display_data",
          "data": {
            "image/png": "[encoded data removed]",
            "text/plain": [
              "<Figure size 432x288 with 1 Axes>"
            ]
          },
          "metadata": {
            "tags": []
          }
        }
      ]
    },
    {
      "cell_type": "code",
      "metadata": {
        "id": "zpHzEGKWL1nz"
      },
      "source": [
        "# Incluir coluna para Status_Liq_Titulo com valores 0 e 1\r\n",
        "# 0 Em dia \r\n",
        "# 1 Atraso\r\n",
        "df['STATUS'] = df['STATUS_LIQ_TITULO'].map({'EM_DIA':0, 'ATRASO':1})\r\n"
      ],
      "execution_count": null,
      "outputs": []
    },
    {
      "cell_type": "markdown",
      "metadata": {
        "id": "b6QoMD58qWT2"
      },
      "source": [
        "### Análise do percentual da quantidade de contratos por ESTADO_CEDENTE"
      ]
    },
    {
      "cell_type": "code",
      "metadata": {
        "colab": {
          "base_uri": "https://localhost:8080/"
        },
        "id": "Cag9_XLdEJRz",
        "outputId": "3af8d949-5320-4646-954b-43ee06aba140"
      },
      "source": [
        "# Analisar a porcentagem de acordo com Estado do Cedente por qtd contrato\r\n",
        "print(round((df['ESTADO_CEDENTE'].value_counts() / df.shape[0] )*100,2));"
      ],
      "execution_count": null,
      "outputs": [
        {
          "output_type": "stream",
          "text": [
            "CE   35.110000\n",
            "SP   30.850000\n",
            "RS   11.950000\n",
            "GO    6.470000\n",
            "MG    6.020000\n",
            "RJ    3.240000\n",
            "PA    2.270000\n",
            "SC    1.930000\n",
            "BA    1.830000\n",
            "MT    0.230000\n",
            "SE    0.080000\n",
            "Name: ESTADO_CEDENTE, dtype: float64\n"
          ],
          "name": "stdout"
        }
      ]
    },
    {
      "cell_type": "code",
      "metadata": {
        "id": "qIabLlUq0FGR"
      },
      "source": [
        "# Grafico de Pizza para os 5 primeiros\r\n",
        "data = [['CE', 35.12], ['SP', 30.84], ['RS', 11.95], ['GO', 6.47], ['MG', 6.02]] \r\n",
        "  \r\n",
        "# Create the pandas DataFrame \r\n",
        "df_estado = pd.DataFrame(data, columns = ['ESTADO_CEDENTE', 'PERCENTUAL']) "
      ],
      "execution_count": null,
      "outputs": []
    },
    {
      "cell_type": "code",
      "metadata": {
        "colab": {
          "base_uri": "https://localhost:8080/",
          "height": 303
        },
        "id": "0mdJ6T9lzfe9",
        "outputId": "473f1272-7e8b-4e7b-95ec-dfc56300cb7d"
      },
      "source": [
        "# Plotar os gráficos para a porcentagem de acordo com Estado do Cedente por qtd contrato\r\n",
        "fig, (axis1) = plt.subplots(1,1, figsize=(10,4))\r\n",
        "print('Porcentagem Estado do Cedente x Qtd contrato')\r\n",
        "sbn.barplot(x='ESTADO_CEDENTE', y='PERCENTUAL', data=df_estado, ax=axis1);"
      ],
      "execution_count": null,
      "outputs": [
        {
          "output_type": "stream",
          "text": [
            "Porcentagem Estado do Cedente x Qtd contrato\n"
          ],
          "name": "stdout"
        },
        {
          "output_type": "display_data",
          "data": {
            "image/png": "[encoded data removed]",
            "text/plain": [
              "<Figure size 720x288 with 1 Axes>"
            ]
          },
          "metadata": {
            "tags": []
          }
        }
      ]
    },
    {
      "cell_type": "markdown",
      "metadata": {
        "id": "auCVdy_6qwsc"
      },
      "source": [
        "### Análise do percentual da quantidade de contratos por ESTADO_SACADO"
      ]
    },
    {
      "cell_type": "code",
      "metadata": {
        "id": "4VuDIiiLEbKY",
        "colab": {
          "base_uri": "https://localhost:8080/"
        },
        "outputId": "a9c6cb8c-4e57-495f-b9a9-45231b398d0c"
      },
      "source": [
        "# Analisar a porcentagem de acordo com Estado do Sacado por qtd contrato\r\n",
        "print(round((df['ESTADO_SACADO'].value_counts() / df.shape[0] )*100,2));"
      ],
      "execution_count": null,
      "outputs": [
        {
          "output_type": "stream",
          "text": [
            "SP   34.120000\n",
            "MG   12.080000\n",
            "RS    8.860000\n",
            "PR    7.270000\n",
            "GO    5.310000\n",
            "SC    4.820000\n",
            "CE    4.490000\n",
            "RJ    3.960000\n",
            "BA    3.500000\n",
            "PE    1.950000\n",
            "PA    1.750000\n",
            "MT    1.670000\n",
            "DF    1.410000\n",
            "ES    1.290000\n",
            "RN    1.220000\n",
            "MA    1.210000\n",
            "PB    1.080000\n",
            "PI    0.720000\n",
            "MS    0.700000\n",
            "SE    0.650000\n",
            "TO    0.550000\n",
            "AL    0.510000\n",
            "RO    0.370000\n",
            "AM    0.340000\n",
            "AP    0.080000\n",
            "AC    0.050000\n",
            "RR    0.010000\n",
            "Name: ESTADO_SACADO, dtype: float64\n"
          ],
          "name": "stdout"
        }
      ]
    },
    {
      "cell_type": "code",
      "metadata": {
        "id": "T0-N-xbL21YP"
      },
      "source": [
        "# Grafico de Pizza para os 5 primeiros\r\n",
        "data = [['SP', 34.06], ['MG', 12.08], ['RS', 8.57], ['PR', 7.27], ['SC', 4.82]] \r\n",
        "  \r\n",
        "# Criando o dataframe  \r\n",
        "df_estado = pd.DataFrame(data, columns = ['ESTADO_SACADO', 'PERCENTUAL']) "
      ],
      "execution_count": null,
      "outputs": []
    },
    {
      "cell_type": "code",
      "metadata": {
        "colab": {
          "base_uri": "https://localhost:8080/",
          "height": 285
        },
        "id": "PmpqOrqy3OC-",
        "outputId": "ecf08ba8-4abd-4bc4-b6d7-5a1bbfa24665"
      },
      "source": [
        "# Plotar os gráficos para Estado_Sacado vs. Percentual de contratos \r\n",
        "fig, (axis1) = plt.subplots(1,1, figsize=(10,4))\r\n",
        "\r\n",
        "sbn.barplot(x='ESTADO_SACADO', y='PERCENTUAL', data=df_estado, ax=axis1);\r\n"
      ],
      "execution_count": null,
      "outputs": [
        {
          "output_type": "display_data",
          "data": {
            "image/png": "[encoded data removed]",
            "text/plain": [
              "<Figure size 720x288 with 1 Axes>"
            ]
          },
          "metadata": {
            "tags": []
          }
        }
      ]
    },
    {
      "cell_type": "code",
      "metadata": {
        "colab": {
          "base_uri": "https://localhost:8080/"
        },
        "id": "WAI1HnXPRlKm",
        "outputId": "de3a51bc-626e-4c63-df8e-3cc76c450bfd"
      },
      "source": [
        "# Taxa Média\r\n",
        "print('Taxa Média : ', round((df['TAXA_MENSAL'].mean() * 100),2));"
      ],
      "execution_count": null,
      "outputs": [
        {
          "output_type": "stream",
          "text": [
            "Taxa Média :  4.63\n"
          ],
          "name": "stdout"
        }
      ]
    },
    {
      "cell_type": "code",
      "metadata": {
        "colab": {
          "base_uri": "https://localhost:8080/"
        },
        "id": "4Zgeg0r6SvjE",
        "outputId": "f91972f9-afe8-448c-a164-66ce28af3dbb"
      },
      "source": [
        "# Receita Prevista Total\r\n",
        "print('Valor Desagio total :', round((df['VALOR_DESAGIO'].sum()),2))"
      ],
      "execution_count": null,
      "outputs": [
        {
          "output_type": "stream",
          "text": [
            "Valor Desagio total : 4572704.21\n"
          ],
          "name": "stdout"
        }
      ]
    },
    {
      "cell_type": "code",
      "metadata": {
        "colab": {
          "base_uri": "https://localhost:8080/"
        },
        "id": "wMq-7-L1PwSw",
        "outputId": "5ab65700-f303-4d67-f218-c967ce2c8ae2"
      },
      "source": [
        "# Receita Prevista por Mes\r\n",
        "\r\n",
        "#Convert to pandas date time\r\n",
        "df['DATA_PAGAMENTO'] = pd.to_datetime(df['DATA_PAGAMENTO'])\r\n",
        "\r\n",
        "print(df.groupby([df['DATA_PAGAMENTO'].dt.year, df['DATA_PAGAMENTO'].dt.month])['VALOR_DESAGIO'].sum())\r\n"
      ],
      "execution_count": null,
      "outputs": [
        {
          "output_type": "stream",
          "text": [
            "DATA_PAGAMENTO  DATA_PAGAMENTO\n",
            "2017            11                  164.274796\n",
            "                12                67988.466752\n",
            "2018            1                639488.603617\n",
            "                2                422681.095101\n",
            "                3                486547.925767\n",
            "                4                469583.925038\n",
            "                5                358206.475948\n",
            "                6                696694.146808\n",
            "                7                389224.209139\n",
            "                8                436510.630578\n",
            "                9                567241.103164\n",
            "                10                 8846.703105\n",
            "                11                 5404.807484\n",
            "                12                 3152.110821\n",
            "2019            1                  1833.701920\n",
            "                2                  2318.376013\n",
            "                3                  1332.052717\n",
            "                4                  1145.929716\n",
            "                5                  1816.378426\n",
            "                6                   857.693632\n",
            "                7                  1311.538965\n",
            "                8                   794.109143\n",
            "                9                  4862.132366\n",
            "                10                  548.591920\n",
            "                12                  393.263491\n",
            "2020            1                  1355.184442\n",
            "                3                     5.603561\n",
            "                4                  1319.556148\n",
            "                5                   318.631674\n",
            "                6                   345.194030\n",
            "                7                   361.507719\n",
            "                12                   18.573427\n",
            "2021            6                    31.713047\n",
            "Name: VALOR_DESAGIO, dtype: float64\n"
          ],
          "name": "stdout"
        }
      ]
    },
    {
      "cell_type": "code",
      "metadata": {
        "id": "Ym5IpDkrrdcG",
        "colab": {
          "base_uri": "https://localhost:8080/"
        },
        "outputId": "001ea624-9e6c-4f88-ee76-99996b4dec9c"
      },
      "source": [
        "# Relação dos 5 primeiros cedentes por valor real\r\n",
        "# Percentual do valor real em relação ao total dos 5 primeiros\r\n",
        "total_valor_real = df['VALOR_REAL'].sum()\r\n",
        "print('Percentual do valor de cada cedente sobre o total')\r\n",
        "print(round((df.groupby('CEDENTE')['VALOR_REAL'].sum().sort_values(ascending=False).head(5)) / total_valor_real * 100,2));\r\n",
        "print('\\n')\r\n",
        "print ('Valor total Real :', total_valor_real);\r\n"
      ],
      "execution_count": null,
      "outputs": [
        {
          "output_type": "stream",
          "text": [
            "Percentual do valor de cada cedente sobre o total\n",
            "CEDENTE\n",
            "Cedente 1    16.960000\n",
            "Cedente 3    14.880000\n",
            "Cedente 13    8.800000\n",
            "Cedente 9     8.230000\n",
            "Cedente 2     7.660000\n",
            "Name: VALOR_REAL, dtype: float64\n",
            "\n",
            "\n",
            "Valor total Real : 60564809.17\n"
          ],
          "name": "stdout"
        }
      ]
    },
    {
      "cell_type": "code",
      "metadata": {
        "id": "rQCNdJ7H3qZc"
      },
      "source": [
        "# Grafico de Pizza para os 5 primeiros\r\n",
        "data = [['Cedente 1', 16.96], ['Cedente 3', 14.88], ['Cedente 13', 8.80], ['Cedente 9', 8.23], ['Cedente 2', 7.66]] \r\n",
        "  \r\n",
        "# Criando o dataframe \r\n",
        "df_estado = pd.DataFrame(data, columns = ['CEDENTE', 'PERCENTUAL']) "
      ],
      "execution_count": null,
      "outputs": []
    },
    {
      "cell_type": "code",
      "metadata": {
        "colab": {
          "base_uri": "https://localhost:8080/",
          "height": 327
        },
        "id": "TstXJNTE4Jus",
        "outputId": "d5c25328-ca55-43bb-8325-1784f2979577"
      },
      "source": [
        "# Plotar o gráfico para o percentual do valor real em relação ao total dos 5 primeiros \r\n",
        "fig, (axis1) = plt.subplots(1,1, figsize=(10,4))\r\n",
        "\r\n",
        "g = sbn.barplot(x='CEDENTE', y='PERCENTUAL', data=df_estado, ax=axis1)\r\n",
        "g.set_xticklabels(g.get_xticklabels(), rotation=45);\r\n"
      ],
      "execution_count": null,
      "outputs": [
        {
          "output_type": "display_data",
          "data": {
            "image/png": "[encoded data removed]",
            "text/plain": [
              "<Figure size 720x288 with 1 Axes>"
            ]
          },
          "metadata": {
            "tags": []
          }
        }
      ]
    },
    {
      "cell_type": "code",
      "metadata": {
        "id": "PUkJ3GUIsbWP",
        "colab": {
          "base_uri": "https://localhost:8080/"
        },
        "outputId": "a7193a9d-fa87-4537-ec57-89940a61d86d"
      },
      "source": [
        "# Relação dos 5 primeiros SACADOS por valor real\r\n",
        "# Percentual do valor em relação ao total dos 5 primeiros\r\n",
        "total_valor_real = df['VALOR_REAL'].sum()\r\n",
        "print('Percentual do valor de cada cedente sobre o total')\r\n",
        "print(round((df.groupby('SACADO')['VALOR_REAL'].sum().sort_values(ascending=False).head(5)) / total_valor_real * 100,2));\r\n",
        "print('\\n')\r\n",
        "print ('Valor total Real :', total_valor_real);"
      ],
      "execution_count": null,
      "outputs": [
        {
          "output_type": "stream",
          "text": [
            "Percentual do valor de cada cedente sobre o total\n",
            "SACADO\n",
            "Sacado 181   7.070000\n",
            "Sacado 657   5.680000\n",
            "Sacado 612   5.280000\n",
            "Sacado 2     4.950000\n",
            "Sacado 311   1.730000\n",
            "Name: VALOR_REAL, dtype: float64\n",
            "\n",
            "\n",
            "Valor total Real : 60564809.17\n"
          ],
          "name": "stdout"
        }
      ]
    },
    {
      "cell_type": "code",
      "metadata": {
        "id": "HhCDNPR454e7"
      },
      "source": [
        "# Grafico de Pizza para os 5 primeiros\r\n",
        "data = [['Sacado 181', 7.07], ['Sacado 657', 5.68], ['Sacado 612', 5.28], ['Sacado 2', 4.95], ['Sacado 311', 1.73]] \r\n",
        "  \r\n",
        "# Criando o DataFrame \r\n",
        "df_grafico = pd.DataFrame(data, columns = ['SACADO', 'PERCENTUAL']) "
      ],
      "execution_count": null,
      "outputs": []
    },
    {
      "cell_type": "code",
      "metadata": {
        "colab": {
          "base_uri": "https://localhost:8080/",
          "height": 328
        },
        "id": "U9Lvgfbx6AME",
        "outputId": "56685325-358b-4fbb-ec97-100e64e29ef3"
      },
      "source": [
        "# Plotar os gráficos para Estado_Sacado vs. Percentual de contratos \r\n",
        "fig, (axis1) = plt.subplots(1,1, figsize=(10,4))\r\n",
        "\r\n",
        "g = sbn.barplot(x='SACADO', y='PERCENTUAL', data=df_grafico, ax=axis1)\r\n",
        "g.set_xticklabels(g.get_xticklabels(), rotation=45);\r\n"
      ],
      "execution_count": null,
      "outputs": [
        {
          "output_type": "display_data",
          "data": {
            "image/png": "[encoded data removed]",
            "text/plain": [
              "<Figure size 720x288 with 1 Axes>"
            ]
          },
          "metadata": {
            "tags": []
          }
        }
      ]
    },
    {
      "cell_type": "code",
      "metadata": {
        "id": "vsY6Ndtlw7n5",
        "colab": {
          "base_uri": "https://localhost:8080/"
        },
        "outputId": "169b6d98-8762-4f9c-84e6-44b7e47a58e1"
      },
      "source": [
        "# Relação dos 5 primeiros ESTADO_CEDENTE por valor real\r\n",
        "# Percentual do valor em relação ao total dos 5 primeiros\r\n",
        "total_valor_real = df['VALOR_REAL'].sum()\r\n",
        "print('Percentual do valor de cada cedente sobre o total')\r\n",
        "print(round((df.groupby('ESTADO_CEDENTE')['VALOR_REAL'].sum().sort_values(ascending=False).head(5)) / total_valor_real * 100,2));\r\n",
        "print('\\n')\r\n",
        "print ('Valor total Real :', total_valor_real);"
      ],
      "execution_count": null,
      "outputs": [
        {
          "output_type": "stream",
          "text": [
            "Percentual do valor de cada cedente sobre o total\n",
            "ESTADO_CEDENTE\n",
            "SP   35.610000\n",
            "CE   19.230000\n",
            "MG   16.770000\n",
            "RS    7.760000\n",
            "BA    6.940000\n",
            "Name: VALOR_REAL, dtype: float64\n",
            "\n",
            "\n",
            "Valor total Real : 60564809.17\n"
          ],
          "name": "stdout"
        }
      ]
    },
    {
      "cell_type": "code",
      "metadata": {
        "id": "tFlVD1Ky60zm"
      },
      "source": [
        "# Grafico de Pizza para os 5 primeiros\r\n",
        "data = [['SP', 35.61], ['CE', 19.23], ['MG', 16.77], ['RS', 7.76], ['BA', 6.94]] \r\n",
        "  \r\n",
        "# Criando o DataFrame \r\n",
        "df_estado = pd.DataFrame(data, columns = ['ESTADO_CEDENTE', 'PERCENTUAL']) "
      ],
      "execution_count": null,
      "outputs": []
    },
    {
      "cell_type": "code",
      "metadata": {
        "colab": {
          "base_uri": "https://localhost:8080/",
          "height": 285
        },
        "id": "dK37UhG77Mkt",
        "outputId": "7bbab4c7-dc8e-4787-c283-2fe2896dbf2e"
      },
      "source": [
        "# Plotar os gráficos para Estado_Cedente vs. Percentual de contratos \r\n",
        "fig, (axis1) = plt.subplots(1,1, figsize=(10,4))\r\n",
        "\r\n",
        "sbn.barplot(x='ESTADO_CEDENTE', y='PERCENTUAL', data=df_estado, ax=axis1);\r\n"
      ],
      "execution_count": null,
      "outputs": [
        {
          "output_type": "display_data",
          "data": {
            "image/png": "[encoded data removed]",
            "text/plain": [
              "<Figure size 720x288 with 1 Axes>"
            ]
          },
          "metadata": {
            "tags": []
          }
        }
      ]
    },
    {
      "cell_type": "code",
      "metadata": {
        "id": "ITJS0YW9xFGE",
        "colab": {
          "base_uri": "https://localhost:8080/"
        },
        "outputId": "e5f4cd03-ac71-4d82-fb22-6f64e80907b8"
      },
      "source": [
        "# Relação dos 5 primeiros ESTADO_SACADO por valor real\r\n",
        "# Percentual do valor em relação ao total \r\n",
        "total_valor_real = df['VALOR_REAL'].sum()\r\n",
        "print('Percentual do valor de cada ESTADO_SACADO sobre o total')\r\n",
        "print(round((df.groupby('ESTADO_SACADO')['VALOR_REAL'].sum().sort_values(ascending=False).head(5)) / total_valor_real * 100,2));\r\n",
        "print('\\n')\r\n",
        "print ('Valor total Real :', total_valor_real);"
      ],
      "execution_count": null,
      "outputs": [
        {
          "output_type": "stream",
          "text": [
            "Percentual do valor de cada ESTADO_SACADO sobre o total\n",
            "ESTADO_SACADO\n",
            "SP   47.460000\n",
            "MG   14.610000\n",
            "RS    6.470000\n",
            "PR    5.780000\n",
            "RJ    3.840000\n",
            "Name: VALOR_REAL, dtype: float64\n",
            "\n",
            "\n",
            "Valor total Real : 60564809.17\n"
          ],
          "name": "stdout"
        }
      ]
    },
    {
      "cell_type": "code",
      "metadata": {
        "id": "EFKV15N27YzU"
      },
      "source": [
        "# Grafico de Pizza para os 5 primeiros\r\n",
        "data = [['SP', 47.46], ['MG', 14.61], ['RS', 6.47], ['PR', 5.78], ['RJ', 3.84]] \r\n",
        "  \r\n",
        "# Criando o DataFrame \r\n",
        "df_estado = pd.DataFrame(data, columns = ['ESTADO_SACADO', 'PERCENTUAL']) "
      ],
      "execution_count": null,
      "outputs": []
    },
    {
      "cell_type": "code",
      "metadata": {
        "colab": {
          "base_uri": "https://localhost:8080/",
          "height": 285
        },
        "id": "7A9fXxJn7rWz",
        "outputId": "dbf39d90-b3fe-4f68-c94f-a93530c2e881"
      },
      "source": [
        "# Plotar os gráficos para Estado_Sacado vs. Percentual de VALOR_REAL \r\n",
        "fig, (axis1) = plt.subplots(1,1, figsize=(10,4))\r\n",
        "\r\n",
        "sbn.barplot(x='ESTADO_SACADO', y='PERCENTUAL', data=df_estado, ax=axis1);\r\n"
      ],
      "execution_count": null,
      "outputs": [
        {
          "output_type": "display_data",
          "data": {
            "image/png": "[encoded data removed]",
            "text/plain": [
              "<Figure size 720x288 with 1 Axes>"
            ]
          },
          "metadata": {
            "tags": []
          }
        }
      ]
    },
    {
      "cell_type": "code",
      "metadata": {
        "id": "WNbyrqT2DqHU",
        "colab": {
          "base_uri": "https://localhost:8080/"
        },
        "outputId": "79f76b71-d6c5-4ce1-eb29-2eab9a087bd1"
      },
      "source": [
        "# Relação entre Status_Liq_Titulo e Estado do Cedente\r\n",
        "print (df.groupby('ESTADO_CEDENTE')['STATUS_LIQ_TITULO'].value_counts())"
      ],
      "execution_count": null,
      "outputs": [
        {
          "output_type": "stream",
          "text": [
            "ESTADO_CEDENTE  STATUS_LIQ_TITULO\n",
            "BA              EM_DIA                149\n",
            "                ATRASO                 23\n",
            "CE              EM_DIA               2753\n",
            "                ATRASO                552\n",
            "GO              ATRASO                391\n",
            "                EM_DIA                218\n",
            "MG              EM_DIA                446\n",
            "                ATRASO                121\n",
            "MT              EM_DIA                 19\n",
            "                ATRASO                  3\n",
            "PA              EM_DIA                189\n",
            "                ATRASO                 25\n",
            "RJ              EM_DIA                281\n",
            "                ATRASO                 24\n",
            "RS              EM_DIA                862\n",
            "                ATRASO                263\n",
            "SC              EM_DIA                136\n",
            "                ATRASO                 46\n",
            "SE              EM_DIA                  6\n",
            "                ATRASO                  2\n",
            "SP              EM_DIA               2487\n",
            "                ATRASO                417\n",
            "Name: STATUS_LIQ_TITULO, dtype: int64\n"
          ],
          "name": "stdout"
        }
      ]
    },
    {
      "cell_type": "code",
      "metadata": {
        "id": "Z1ngzRwyiDbO",
        "colab": {
          "base_uri": "https://localhost:8080/"
        },
        "outputId": "6f12389d-0140-4be8-84af-5b5ee9f65d4d"
      },
      "source": [
        "# Qtd total de contratos EM_DIA\r\n",
        "total_contratos_em_dia = df_clean[df_clean['STATUS_LIQ_TITULO'] == 'EM_DIA'].count().head(1)\r\n",
        "print('Total de contratos em dia', total_contratos_em_dia[0])\r\n",
        " \r\n",
        "# PERCENTUAL de contratos EM_DIA por ESTADO_CEDENTE em relação ao TOTAL DE CONTRATOS EM DIA\r\n",
        "\r\n",
        "(df_clean[df_clean['STATUS_LIQ_TITULO'] == 'EM_DIA'].groupby('ESTADO_CEDENTE')['STATUS_LIQ_TITULO'].value_counts() / total_contratos_em_dia[0] * 100).sort_values(ascending=False).head(5)"
      ],
      "execution_count": null,
      "outputs": [
        {
          "output_type": "stream",
          "text": [
            "Total de contratos em dia 7092\n"
          ],
          "name": "stdout"
        },
        {
          "output_type": "execute_result",
          "data": {
            "text/plain": [
              "ESTADO_CEDENTE  STATUS_LIQ_TITULO\n",
              "CE              EM_DIA              37.760857\n",
              "SP              EM_DIA              33.192329\n",
              "RS              EM_DIA              11.802030\n",
              "MG              EM_DIA               4.526227\n",
              "RJ              EM_DIA               3.793006\n",
              "Name: STATUS_LIQ_TITULO, dtype: float64"
            ]
          },
          "metadata": {
            "tags": []
          },
          "execution_count": 61
        }
      ]
    },
    {
      "cell_type": "code",
      "metadata": {
        "id": "CW3OJZRz97VJ"
      },
      "source": [
        "# Grafico de Pizza para os 5 primeiros\r\n",
        "data = [['CE', 37.76], ['SP', 33.19], ['RS', 11.80], ['MG', 4.52], ['RJ', 3.79]] \r\n",
        "  \r\n",
        "# Criando o DataFrame \r\n",
        "df_estado = pd.DataFrame(data, columns = ['ESTADO_CEDENTE', 'PERCENTUAL']) "
      ],
      "execution_count": null,
      "outputs": []
    },
    {
      "cell_type": "code",
      "metadata": {
        "colab": {
          "base_uri": "https://localhost:8080/",
          "height": 285
        },
        "id": "rnM0EH0L-Mwe",
        "outputId": "a3677dce-d91a-4b51-99d1-f8022a05a73b"
      },
      "source": [
        "# Plotar o gráfico para PERCENTUAL de contratos EM_DIA por ESTADO_CEDENTE em relação ao TOTAL DE CONTRATOS EM DIA\r\n",
        "fig, (axis1) = plt.subplots(1,1, figsize=(10,4))\r\n",
        "\r\n",
        "sbn.barplot(x='ESTADO_CEDENTE', y='PERCENTUAL', data=df_estado, ax=axis1);\r\n"
      ],
      "execution_count": null,
      "outputs": [
        {
          "output_type": "display_data",
          "data": {
            "image/png": "[encoded data removed]",
            "text/plain": [
              "<Figure size 720x288 with 1 Axes>"
            ]
          },
          "metadata": {
            "tags": []
          }
        }
      ]
    },
    {
      "cell_type": "code",
      "metadata": {
        "id": "enJifS2K01th",
        "colab": {
          "base_uri": "https://localhost:8080/"
        },
        "outputId": "c22ca339-595a-4d29-c55e-7c5bd7804c89"
      },
      "source": [
        "# Qtd total de contratos EM_DIA\r\n",
        "total_contratos_em_dia = df_clean[df_clean['STATUS_LIQ_TITULO'] == 'EM_DIA'].count().head(1)\r\n",
        "print('Total de contratos EM DIA',total_contratos_em_dia[0])\r\n",
        " \r\n",
        "# PERCENTUAL de contratos EM_DIA por ESTADO_SACADO em relação ao TOTAL DE CONTRATOS EM DIA\r\n",
        "\r\n",
        "(df_clean[df_clean['STATUS_LIQ_TITULO'] == 'EM_DIA'].groupby('ESTADO_SACADO')['STATUS_LIQ_TITULO'].value_counts() / total_contratos_em_dia[0] * 100).sort_values(ascending=False).head(5)\r\n"
      ],
      "execution_count": null,
      "outputs": [
        {
          "output_type": "stream",
          "text": [
            "Total de contratos EM DIA 7092\n"
          ],
          "name": "stdout"
        },
        {
          "output_type": "execute_result",
          "data": {
            "text/plain": [
              "ESTADO_SACADO  STATUS_LIQ_TITULO\n",
              "SP             EM_DIA              34.940778\n",
              "MG             EM_DIA              10.829103\n",
              "RS             EM_DIA               8.671743\n",
              "PR             EM_DIA               7.628314\n",
              "SC             EM_DIA               5.569656\n",
              "Name: STATUS_LIQ_TITULO, dtype: float64"
            ]
          },
          "metadata": {
            "tags": []
          },
          "execution_count": 64
        }
      ]
    },
    {
      "cell_type": "code",
      "metadata": {
        "id": "rSmKRH_J_C48"
      },
      "source": [
        "# Grafico de Pizza para os 5 primeiros\r\n",
        "data = [['SP', 34.94], ['MG', 10.82], ['RS', 8.67], ['PR', 7.62], ['SC', 5.56]] \r\n",
        "  \r\n",
        "# Criando o DataFrame \r\n",
        "df_estado = pd.DataFrame(data, columns = ['ESTADO_SACADO', 'PERCENTUAL']) "
      ],
      "execution_count": null,
      "outputs": []
    },
    {
      "cell_type": "code",
      "metadata": {
        "colab": {
          "base_uri": "https://localhost:8080/",
          "height": 285
        },
        "id": "TMXAn_TP_ZjC",
        "outputId": "c0baf87a-e4cb-4f0e-df82-5057501de98e"
      },
      "source": [
        "# Plotar os gráficos para PERCENTUAL de contratos EM_DIA por ESTADO_SACADO em relação ao TOTAL DE CONTRATOS EM DIA\r\n",
        "fig, (axis1) = plt.subplots(1,1, figsize=(10,4))\r\n",
        "\r\n",
        "sbn.barplot(x='ESTADO_SACADO', y='PERCENTUAL', data=df_estado, ax=axis1);\r\n"
      ],
      "execution_count": null,
      "outputs": [
        {
          "output_type": "display_data",
          "data": {
            "image/png": "[encoded data removed]",
            "text/plain": [
              "<Figure size 720x288 with 1 Axes>"
            ]
          },
          "metadata": {
            "tags": []
          }
        }
      ]
    },
    {
      "cell_type": "code",
      "metadata": {
        "id": "c-1FaKJgkftB"
      },
      "source": [
        ""
      ],
      "execution_count": null,
      "outputs": []
    }
  ]
}